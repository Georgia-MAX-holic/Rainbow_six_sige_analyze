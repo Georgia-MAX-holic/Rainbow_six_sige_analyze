{
  "cells": [
    {
      "cell_type": "code",
      "execution_count": null,
      "metadata": {
        "colab": {
          "base_uri": "https://localhost:8080/",
          "height": 1000
        },
        "id": "mrfIP5SB8Jqr",
        "outputId": "fafea6ee-9086-4e0f-df68-902266d4b7ac"
      },
      "outputs": [
        {
          "output_type": "stream",
          "name": "stdout",
          "text": [
            "Collecting pdpbox\n",
            "  Downloading PDPbox-0.2.1.tar.gz (34.0 MB)\n",
            "\u001b[K     |████████████████████████████████| 34.0 MB 141 kB/s \n",
            "\u001b[?25hRequirement already satisfied: pandas in /usr/local/lib/python3.7/dist-packages (from pdpbox) (1.3.5)\n",
            "Requirement already satisfied: numpy in /usr/local/lib/python3.7/dist-packages (from pdpbox) (1.21.6)\n",
            "Requirement already satisfied: scipy in /usr/local/lib/python3.7/dist-packages (from pdpbox) (1.4.1)\n",
            "Requirement already satisfied: joblib in /usr/local/lib/python3.7/dist-packages (from pdpbox) (1.1.0)\n",
            "Requirement already satisfied: psutil in /usr/local/lib/python3.7/dist-packages (from pdpbox) (5.4.8)\n",
            "Collecting matplotlib==3.1.1\n",
            "  Downloading matplotlib-3.1.1-cp37-cp37m-manylinux1_x86_64.whl (13.1 MB)\n",
            "\u001b[K     |████████████████████████████████| 13.1 MB 25.7 MB/s \n",
            "\u001b[?25hRequirement already satisfied: sklearn in /usr/local/lib/python3.7/dist-packages (from pdpbox) (0.0)\n",
            "Requirement already satisfied: pyparsing!=2.0.4,!=2.1.2,!=2.1.6,>=2.0.1 in /usr/local/lib/python3.7/dist-packages (from matplotlib==3.1.1->pdpbox) (3.0.9)\n",
            "Requirement already satisfied: python-dateutil>=2.1 in /usr/local/lib/python3.7/dist-packages (from matplotlib==3.1.1->pdpbox) (2.8.2)\n",
            "Requirement already satisfied: kiwisolver>=1.0.1 in /usr/local/lib/python3.7/dist-packages (from matplotlib==3.1.1->pdpbox) (1.4.2)\n",
            "Requirement already satisfied: cycler>=0.10 in /usr/local/lib/python3.7/dist-packages (from matplotlib==3.1.1->pdpbox) (0.11.0)\n",
            "Requirement already satisfied: typing-extensions in /usr/local/lib/python3.7/dist-packages (from kiwisolver>=1.0.1->matplotlib==3.1.1->pdpbox) (4.2.0)\n",
            "Requirement already satisfied: six>=1.5 in /usr/local/lib/python3.7/dist-packages (from python-dateutil>=2.1->matplotlib==3.1.1->pdpbox) (1.15.0)\n",
            "Requirement already satisfied: pytz>=2017.3 in /usr/local/lib/python3.7/dist-packages (from pandas->pdpbox) (2022.1)\n",
            "Requirement already satisfied: scikit-learn in /usr/local/lib/python3.7/dist-packages (from sklearn->pdpbox) (1.0.2)\n",
            "Requirement already satisfied: threadpoolctl>=2.0.0 in /usr/local/lib/python3.7/dist-packages (from scikit-learn->sklearn->pdpbox) (3.1.0)\n",
            "Building wheels for collected packages: pdpbox\n",
            "  Building wheel for pdpbox (setup.py) ... \u001b[?25l\u001b[?25hdone\n",
            "  Created wheel for pdpbox: filename=PDPbox-0.2.1-py3-none-any.whl size=35758224 sha256=cb7b0cb1dfb5ebbbe4219a0a6b91b1523cdef68c3e9168216882b03017434f63\n",
            "  Stored in directory: /root/.cache/pip/wheels/f4/d0/1a/b80035625c53131f52906a6fc4dd690d8efd2bf8af6a4015eb\n",
            "Successfully built pdpbox\n",
            "Installing collected packages: matplotlib, pdpbox\n",
            "  Attempting uninstall: matplotlib\n",
            "    Found existing installation: matplotlib 3.2.2\n",
            "    Uninstalling matplotlib-3.2.2:\n",
            "      Successfully uninstalled matplotlib-3.2.2\n",
            "\u001b[31mERROR: pip's dependency resolver does not currently take into account all the packages that are installed. This behaviour is the source of the following dependency conflicts.\n",
            "albumentations 0.1.12 requires imgaug<0.2.7,>=0.2.5, but you have imgaug 0.2.9 which is incompatible.\u001b[0m\n",
            "Successfully installed matplotlib-3.1.1 pdpbox-0.2.1\n"
          ]
        },
        {
          "output_type": "display_data",
          "data": {
            "application/vnd.colab-display-data+json": {
              "pip_warning": {
                "packages": [
                  "matplotlib",
                  "mpl_toolkits"
                ]
              }
            }
          },
          "metadata": {}
        },
        {
          "output_type": "stream",
          "name": "stdout",
          "text": [
            "Collecting tox\n",
            "  Downloading tox-3.25.0-py2.py3-none-any.whl (85 kB)\n",
            "\u001b[?25l\r\u001b[K     |███▉                            | 10 kB 18.4 MB/s eta 0:00:01\r\u001b[K     |███████▋                        | 20 kB 14.5 MB/s eta 0:00:01\r\u001b[K     |███████████▌                    | 30 kB 10.2 MB/s eta 0:00:01\r\u001b[K     |███████████████▎                | 40 kB 4.6 MB/s eta 0:00:01\r\u001b[K     |███████████████████             | 51 kB 4.4 MB/s eta 0:00:01\r\u001b[K     |███████████████████████         | 61 kB 5.2 MB/s eta 0:00:01\r\u001b[K     |██████████████████████████▊     | 71 kB 5.4 MB/s eta 0:00:01\r\u001b[K     |██████████████████████████████▌ | 81 kB 6.0 MB/s eta 0:00:01\r\u001b[K     |████████████████████████████████| 85 kB 2.6 MB/s \n",
            "\u001b[?25hCollecting tox-venv\n",
            "  Downloading tox_venv-0.4.0-py2.py3-none-any.whl (5.5 kB)\n",
            "Requirement already satisfied: packaging>=14 in /usr/local/lib/python3.7/dist-packages (from tox) (21.3)\n",
            "Requirement already satisfied: filelock>=3.0.0 in /usr/local/lib/python3.7/dist-packages (from tox) (3.7.0)\n",
            "Requirement already satisfied: six>=1.14.0 in /usr/local/lib/python3.7/dist-packages (from tox) (1.15.0)\n",
            "Requirement already satisfied: importlib-metadata>=0.12 in /usr/local/lib/python3.7/dist-packages (from tox) (4.11.3)\n",
            "Requirement already satisfied: py>=1.4.17 in /usr/local/lib/python3.7/dist-packages (from tox) (1.11.0)\n",
            "Collecting pluggy>=0.12.0\n",
            "  Downloading pluggy-1.0.0-py2.py3-none-any.whl (13 kB)\n",
            "Collecting virtualenv!=20.0.0,!=20.0.1,!=20.0.2,!=20.0.3,!=20.0.4,!=20.0.5,!=20.0.6,!=20.0.7,>=16.0.0\n",
            "  Downloading virtualenv-20.14.1-py2.py3-none-any.whl (8.8 MB)\n",
            "\u001b[K     |████████████████████████████████| 8.8 MB 30.4 MB/s \n",
            "\u001b[?25hCollecting toml>=0.9.4\n",
            "  Downloading toml-0.10.2-py2.py3-none-any.whl (16 kB)\n",
            "Requirement already satisfied: zipp>=0.5 in /usr/local/lib/python3.7/dist-packages (from importlib-metadata>=0.12->tox) (3.8.0)\n",
            "Requirement already satisfied: typing-extensions>=3.6.4 in /usr/local/lib/python3.7/dist-packages (from importlib-metadata>=0.12->tox) (4.2.0)\n",
            "Requirement already satisfied: pyparsing!=3.0.5,>=2.0.2 in /usr/local/lib/python3.7/dist-packages (from packaging>=14->tox) (3.0.9)\n",
            "Collecting distlib<1,>=0.3.1\n",
            "  Downloading distlib-0.3.4-py2.py3-none-any.whl (461 kB)\n",
            "\u001b[K     |████████████████████████████████| 461 kB 53.6 MB/s \n",
            "\u001b[?25hCollecting platformdirs<3,>=2\n",
            "  Downloading platformdirs-2.5.2-py3-none-any.whl (14 kB)\n",
            "Installing collected packages: platformdirs, distlib, virtualenv, toml, pluggy, tox, tox-venv\n",
            "  Attempting uninstall: pluggy\n",
            "    Found existing installation: pluggy 0.7.1\n",
            "    Uninstalling pluggy-0.7.1:\n",
            "      Successfully uninstalled pluggy-0.7.1\n",
            "\u001b[31mERROR: pip's dependency resolver does not currently take into account all the packages that are installed. This behaviour is the source of the following dependency conflicts.\n",
            "pytest 3.6.4 requires pluggy<0.8,>=0.5, but you have pluggy 1.0.0 which is incompatible.\n",
            "datascience 0.10.6 requires folium==0.2.1, but you have folium 0.8.3 which is incompatible.\u001b[0m\n",
            "Successfully installed distlib-0.3.4 platformdirs-2.5.2 pluggy-1.0.0 toml-0.10.2 tox-3.25.0 tox-venv-0.4.0 virtualenv-20.14.1\n",
            "Collecting shap\n",
            "  Downloading shap-0.40.0-cp37-cp37m-manylinux2010_x86_64.whl (564 kB)\n",
            "\u001b[K     |████████████████████████████████| 564 kB 5.3 MB/s \n",
            "\u001b[?25hRequirement already satisfied: numba in /usr/local/lib/python3.7/dist-packages (from shap) (0.51.2)\n",
            "Requirement already satisfied: cloudpickle in /usr/local/lib/python3.7/dist-packages (from shap) (1.3.0)\n",
            "Requirement already satisfied: scikit-learn in /usr/local/lib/python3.7/dist-packages (from shap) (1.0.2)\n",
            "Requirement already satisfied: packaging>20.9 in /usr/local/lib/python3.7/dist-packages (from shap) (21.3)\n",
            "Requirement already satisfied: tqdm>4.25.0 in /usr/local/lib/python3.7/dist-packages (from shap) (4.64.0)\n",
            "Requirement already satisfied: scipy in /usr/local/lib/python3.7/dist-packages (from shap) (1.4.1)\n",
            "Requirement already satisfied: pandas in /usr/local/lib/python3.7/dist-packages (from shap) (1.3.5)\n",
            "Requirement already satisfied: numpy in /usr/local/lib/python3.7/dist-packages (from shap) (1.21.6)\n",
            "Collecting slicer==0.0.7\n",
            "  Downloading slicer-0.0.7-py3-none-any.whl (14 kB)\n",
            "Requirement already satisfied: pyparsing!=3.0.5,>=2.0.2 in /usr/local/lib/python3.7/dist-packages (from packaging>20.9->shap) (3.0.9)\n",
            "Requirement already satisfied: setuptools in /usr/local/lib/python3.7/dist-packages (from numba->shap) (57.4.0)\n",
            "Requirement already satisfied: llvmlite<0.35,>=0.34.0.dev0 in /usr/local/lib/python3.7/dist-packages (from numba->shap) (0.34.0)\n",
            "Requirement already satisfied: pytz>=2017.3 in /usr/local/lib/python3.7/dist-packages (from pandas->shap) (2022.1)\n",
            "Requirement already satisfied: python-dateutil>=2.7.3 in /usr/local/lib/python3.7/dist-packages (from pandas->shap) (2.8.2)\n",
            "Requirement already satisfied: six>=1.5 in /usr/local/lib/python3.7/dist-packages (from python-dateutil>=2.7.3->pandas->shap) (1.15.0)\n",
            "Requirement already satisfied: joblib>=0.11 in /usr/local/lib/python3.7/dist-packages (from scikit-learn->shap) (1.1.0)\n",
            "Requirement already satisfied: threadpoolctl>=2.0.0 in /usr/local/lib/python3.7/dist-packages (from scikit-learn->shap) (3.1.0)\n",
            "Installing collected packages: slicer, shap\n",
            "Successfully installed shap-0.40.0 slicer-0.0.7\n",
            "Collecting eli5\n",
            "  Downloading eli5-0.13.0.tar.gz (216 kB)\n",
            "\u001b[K     |████████████████████████████████| 216 kB 5.1 MB/s \n",
            "\u001b[?25hRequirement already satisfied: attrs>17.1.0 in /usr/local/lib/python3.7/dist-packages (from eli5) (21.4.0)\n",
            "Collecting jinja2>=3.0.0\n",
            "  Downloading Jinja2-3.1.2-py3-none-any.whl (133 kB)\n",
            "\u001b[K     |████████████████████████████████| 133 kB 34.4 MB/s \n",
            "\u001b[?25hRequirement already satisfied: numpy>=1.9.0 in /usr/local/lib/python3.7/dist-packages (from eli5) (1.21.6)\n",
            "Requirement already satisfied: scipy in /usr/local/lib/python3.7/dist-packages (from eli5) (1.4.1)\n",
            "Requirement already satisfied: six in /usr/local/lib/python3.7/dist-packages (from eli5) (1.15.0)\n",
            "Requirement already satisfied: scikit-learn>=0.20 in /usr/local/lib/python3.7/dist-packages (from eli5) (1.0.2)\n",
            "Requirement already satisfied: graphviz in /usr/local/lib/python3.7/dist-packages (from eli5) (0.10.1)\n",
            "Requirement already satisfied: tabulate>=0.7.7 in /usr/local/lib/python3.7/dist-packages (from eli5) (0.8.9)\n",
            "Requirement already satisfied: MarkupSafe>=2.0 in /usr/local/lib/python3.7/dist-packages (from jinja2>=3.0.0->eli5) (2.0.1)\n",
            "Requirement already satisfied: threadpoolctl>=2.0.0 in /usr/local/lib/python3.7/dist-packages (from scikit-learn>=0.20->eli5) (3.1.0)\n",
            "Requirement already satisfied: joblib>=0.11 in /usr/local/lib/python3.7/dist-packages (from scikit-learn>=0.20->eli5) (1.1.0)\n",
            "Building wheels for collected packages: eli5\n",
            "  Building wheel for eli5 (setup.py) ... \u001b[?25l\u001b[?25hdone\n",
            "  Created wheel for eli5: filename=eli5-0.13.0-py2.py3-none-any.whl size=107748 sha256=e3d292454efca567efb903a8a8f4ef91960a083afb217a28972afcf180736eeb\n",
            "  Stored in directory: /root/.cache/pip/wheels/cc/3c/96/3ead31a8e6c20fc0f1a707fde2e05d49a80b1b4b30096573be\n",
            "Successfully built eli5\n",
            "Installing collected packages: jinja2, eli5\n",
            "  Attempting uninstall: jinja2\n",
            "    Found existing installation: Jinja2 2.11.3\n",
            "    Uninstalling Jinja2-2.11.3:\n",
            "      Successfully uninstalled Jinja2-2.11.3\n",
            "\u001b[31mERROR: pip's dependency resolver does not currently take into account all the packages that are installed. This behaviour is the source of the following dependency conflicts.\n",
            "flask 1.1.4 requires Jinja2<3.0,>=2.10.1, but you have jinja2 3.1.2 which is incompatible.\n",
            "datascience 0.10.6 requires folium==0.2.1, but you have folium 0.8.3 which is incompatible.\u001b[0m\n",
            "Successfully installed eli5-0.13.0 jinja2-3.1.2\n",
            "Requirement already satisfied: xgboost in /usr/local/lib/python3.7/dist-packages (0.90)\n",
            "Requirement already satisfied: numpy in /usr/local/lib/python3.7/dist-packages (from xgboost) (1.21.6)\n",
            "Requirement already satisfied: scipy in /usr/local/lib/python3.7/dist-packages (from xgboost) (1.4.1)\n",
            "Collecting category_encoders\n",
            "  Downloading category_encoders-2.4.1-py2.py3-none-any.whl (80 kB)\n",
            "\u001b[K     |████████████████████████████████| 80 kB 3.7 MB/s \n",
            "\u001b[?25hRequirement already satisfied: numpy>=1.14.0 in /usr/local/lib/python3.7/dist-packages (from category_encoders) (1.21.6)\n",
            "Requirement already satisfied: scikit-learn>=0.20.0 in /usr/local/lib/python3.7/dist-packages (from category_encoders) (1.0.2)\n",
            "Requirement already satisfied: statsmodels>=0.9.0 in /usr/local/lib/python3.7/dist-packages (from category_encoders) (0.10.2)\n",
            "Requirement already satisfied: scipy>=1.0.0 in /usr/local/lib/python3.7/dist-packages (from category_encoders) (1.4.1)\n",
            "Requirement already satisfied: patsy>=0.5.1 in /usr/local/lib/python3.7/dist-packages (from category_encoders) (0.5.2)\n",
            "Requirement already satisfied: pandas>=0.21.1 in /usr/local/lib/python3.7/dist-packages (from category_encoders) (1.3.5)\n",
            "Requirement already satisfied: pytz>=2017.3 in /usr/local/lib/python3.7/dist-packages (from pandas>=0.21.1->category_encoders) (2022.1)\n",
            "Requirement already satisfied: python-dateutil>=2.7.3 in /usr/local/lib/python3.7/dist-packages (from pandas>=0.21.1->category_encoders) (2.8.2)\n",
            "Requirement already satisfied: six in /usr/local/lib/python3.7/dist-packages (from patsy>=0.5.1->category_encoders) (1.15.0)\n",
            "Requirement already satisfied: joblib>=0.11 in /usr/local/lib/python3.7/dist-packages (from scikit-learn>=0.20.0->category_encoders) (1.1.0)\n",
            "Requirement already satisfied: threadpoolctl>=2.0.0 in /usr/local/lib/python3.7/dist-packages (from scikit-learn>=0.20.0->category_encoders) (3.1.0)\n",
            "Installing collected packages: category-encoders\n",
            "Successfully installed category-encoders-2.4.1\n",
            "Requirement already satisfied: scikit-learn in /usr/local/lib/python3.7/dist-packages (1.0.2)\n",
            "Requirement already satisfied: threadpoolctl>=2.0.0 in /usr/local/lib/python3.7/dist-packages (from scikit-learn) (3.1.0)\n",
            "Requirement already satisfied: joblib>=0.11 in /usr/local/lib/python3.7/dist-packages (from scikit-learn) (1.1.0)\n",
            "Requirement already satisfied: numpy>=1.14.6 in /usr/local/lib/python3.7/dist-packages (from scikit-learn) (1.21.6)\n",
            "Requirement already satisfied: scipy>=1.1.0 in /usr/local/lib/python3.7/dist-packages (from scikit-learn) (1.4.1)\n",
            "Requirement already satisfied: category_encoders in /usr/local/lib/python3.7/dist-packages (2.4.1)\n",
            "Requirement already satisfied: scipy>=1.0.0 in /usr/local/lib/python3.7/dist-packages (from category_encoders) (1.4.1)\n",
            "Requirement already satisfied: pandas>=0.21.1 in /usr/local/lib/python3.7/dist-packages (from category_encoders) (1.3.5)\n",
            "Requirement already satisfied: numpy>=1.14.0 in /usr/local/lib/python3.7/dist-packages (from category_encoders) (1.21.6)\n",
            "Requirement already satisfied: statsmodels>=0.9.0 in /usr/local/lib/python3.7/dist-packages (from category_encoders) (0.10.2)\n",
            "Requirement already satisfied: patsy>=0.5.1 in /usr/local/lib/python3.7/dist-packages (from category_encoders) (0.5.2)\n",
            "Requirement already satisfied: scikit-learn>=0.20.0 in /usr/local/lib/python3.7/dist-packages (from category_encoders) (1.0.2)\n",
            "Requirement already satisfied: pytz>=2017.3 in /usr/local/lib/python3.7/dist-packages (from pandas>=0.21.1->category_encoders) (2022.1)\n",
            "Requirement already satisfied: python-dateutil>=2.7.3 in /usr/local/lib/python3.7/dist-packages (from pandas>=0.21.1->category_encoders) (2.8.2)\n",
            "Requirement already satisfied: six in /usr/local/lib/python3.7/dist-packages (from patsy>=0.5.1->category_encoders) (1.15.0)\n",
            "Requirement already satisfied: joblib>=0.11 in /usr/local/lib/python3.7/dist-packages (from scikit-learn>=0.20.0->category_encoders) (1.1.0)\n",
            "Requirement already satisfied: threadpoolctl>=2.0.0 in /usr/local/lib/python3.7/dist-packages (from scikit-learn>=0.20.0->category_encoders) (3.1.0)\n"
          ]
        },
        {
          "output_type": "stream",
          "name": "stderr",
          "text": [
            "/usr/local/lib/python3.7/dist-packages/statsmodels/tools/_testing.py:19: FutureWarning: pandas.util.testing is deprecated. Use the functions in the public API at pandas.testing instead.\n",
            "  import pandas.util.testing as tm\n"
          ]
        }
      ],
      "source": [
        "!pip install pdpbox\n",
        "!pip install tox tox-venv\n",
        "!pip install shap\n",
        "!pip install eli5\n",
        "!pip install xgboost\n",
        "!pip install category_encoders \n",
        "!pip install -U scikit-learn\n",
        "!pip install category_encoders\n",
        "import pandas as pd\n",
        "import numpy as np\n",
        "import matplotlib.pyplot as plt\n",
        "from scipy.stats import f\n",
        "import seaborn as sns\n",
        "from sklearn import model_selection\n",
        "from sklearn import linear_model\n",
        "from sklearn import preprocessing\n",
        "from sklearn.preprocessing import LabelEncoder\n",
        "import statsmodels.formula.api as smf\n",
        "import warnings\n",
        "\n",
        "from sklearn.model_selection import RandomizedSearchCV\n",
        "import matplotlib.pyplot as plt\n",
        "from category_encoders import OrdinalEncoder\n",
        "from sklearn.model_selection import validation_curve\n",
        "from sklearn.tree import DecisionTreeRegressor\n",
        "from sklearn.pipeline import make_pipeline\n",
        "from category_encoders import OneHotEncoder\n",
        "!apt-get install openjdk-8-jdk-headless\n",
        "!wget -q https://mirror.navercorp.com/apache/spark/spark-3.1.2/spark-3.1.2-bin-hadoop3.2.tgz\n",
        "!tar -xvf spark-3.1.2-bin-hadoop3.2.tgz\n",
        "!pip install findspark\n",
        "import os\n",
        "\n",
        "os.environ[\"JAVA_HOME\"] = \"/usr/lib/jvm/java-8-openjdk-amd64\"\n",
        "\n",
        "os.environ[\"SPARK_HOME\"] = \"/content/spark-3.1.2-bin-hadoop3.2\"\n",
        "import findspark\n",
        "\n",
        "findspark.init()\n",
        "import pyspark\n",
        "\n",
        "spark = pyspark.sql.SparkSession.builder.appName(\"test\").master(\"local[*]\").getOrCreate()"
      ]
    },
    {
      "cell_type": "code",
      "execution_count": null,
      "metadata": {
        "colab": {
          "base_uri": "https://localhost:8080/"
        },
        "id": "ArgypsVQ8Nbw",
        "outputId": "f27a724e-55f2-42b2-e008-7a2b8d93dd7b"
      },
      "outputs": [
        {
          "output_type": "stream",
          "name": "stdout",
          "text": [
            "Mounted at /content/gdrive\n"
          ]
        }
      ],
      "source": [
        "from google.colab import drive\n",
        "drive.mount('/content/gdrive', force_remount=True)"
      ]
    },
    {
      "cell_type": "code",
      "execution_count": null,
      "metadata": {
        "id": "VDSfg4XJ8PaV"
      },
      "outputs": [],
      "source": [
        "operators = pd.read_csv('/content/gdrive/MyDrive/cpding/asdf/레식 데이터.csv', sep=',')\n"
      ]
    },
    {
      "cell_type": "code",
      "execution_count": null,
      "metadata": {
        "id": "F4RcEjz88Xiz"
      },
      "outputs": [],
      "source": [
        "operators['k/d_ratio'] = pd.to_numeric(operators['nbkills']) / pd.to_numeric(operators['nbdeaths'])\n",
        "operators['win_ratio'] = pd.to_numeric(operators['nbwins']) / pd.to_numeric(operators['nbpicks'])\n",
        "encoder = OneHotEncoder(use_cat_names= True)"
      ]
    },
    {
      "cell_type": "code",
      "execution_count": null,
      "metadata": {
        "id": "S_pEe-w0xBma",
        "outputId": "1d4e42c8-0517-4835-c57a-8eaa8a05074e",
        "colab": {
          "base_uri": "https://localhost:8080/"
        }
      },
      "outputs": [
        {
          "output_type": "stream",
          "name": "stdout",
          "text": [
            "skillrank          0\n",
            "role               0\n",
            "operator           0\n",
            "primaryweapon      0\n",
            "secondaryweapon    0\n",
            "secondarygadget    0\n",
            "nbwins             0\n",
            "nbkills            0\n",
            "nbdeaths           0\n",
            "nbpicks            0\n",
            "k/d_ratio          0\n",
            "win_ratio          0\n",
            "dtype: int64\n",
            "skillrank          0\n",
            "role               0\n",
            "operator           0\n",
            "primaryweapon      0\n",
            "secondaryweapon    0\n",
            "secondarygadget    0\n",
            "nbwins             0\n",
            "nbkills            0\n",
            "nbdeaths           0\n",
            "nbpicks            0\n",
            "k/d_ratio          0\n",
            "win_ratio          0\n",
            "dtype: int64\n"
          ]
        }
      ],
      "source": [
        "del_rank = [\"Bronze\", \"Copper\", \"Unranked\"]\n",
        "\n",
        "for rank in del_rank:\n",
        "  operators_del_rank = operators[operators[\"skillrank\"] == rank].index \n",
        "  operators = operators.drop(operators_del_rank)\n",
        "\n",
        "# 코퍼, 브론즈, 언랭크는 보통 일반적인 플레이를 하지 않아 삭제 \n",
        "\n",
        "##\n",
        "operators_zero = operators[operators[\"win_ratio\"] == 1.0 ].index \n",
        "operators_one = operators[operators[\"win_ratio\"] == 0].index \n",
        "\n",
        "operators = operators.drop(operators_zero)\n",
        "operators = operators.drop(operators_one)\n",
        "\n",
        "## 승률 1.0과 0는 핵 유저일 가능성이 높음, 삭제 \n",
        "\n",
        "operators = operators.replace([np.inf, -np.inf], np.nan).dropna()\n",
        "# 일반인 플레이를 진행하지 않는 언랭크, 카퍼, 브론즈 랭크를 제외\n",
        "\n",
        "ATT_operators = operators[operators[\"role\"] ==\"Attacker\"] # 공격팀으로 분리\n",
        "DEF_operators = operators[operators[\"role\"] ==\"Defender\"] # 수비팀으로 분리\n",
        "print(DEF_operators.isna().sum().sort_values()) #결측치 측정 \n",
        "print(ATT_operators.isna().sum().sort_values())"
      ]
    },
    {
      "cell_type": "code",
      "execution_count": null,
      "metadata": {
        "id": "YGs5QNgfCQvy",
        "outputId": "c2faaeb7-7955-4cc1-a420-ad59ba122431",
        "colab": {
          "base_uri": "https://localhost:8080/",
          "height": 424
        }
      },
      "outputs": [
        {
          "output_type": "execute_result",
          "data": {
            "text/plain": [
              "       skillrank      role          operator primaryweapon secondaryweapon  \\\n",
              "179996      Gold  Attacker        SAS-SLEDGE            SG          Pistol   \n",
              "374097      Gold  Attacker  SPETSNAZ-RESERVE            AR          Pistol   \n",
              "413325   Diamond  Attacker        GSG9-BLITZ        Shield          Pistol   \n",
              "426423   Diamond  Attacker           GSG9-IQ            AR          Pistol   \n",
              "208811      Gold  Attacker       GIGN-TWITCH            SG          Pistol   \n",
              "...          ...       ...               ...           ...             ...   \n",
              "366824  Platinum  Attacker      GSG9-RESERVE            SG          Pistol   \n",
              "98491     Silver  Attacker     G.E.O.-JACKAL            AR          Pistol   \n",
              "508957  Platinum  Attacker     SPETSNAZ-FUZE            AR          Pistol   \n",
              "37389       Gold  Attacker        SAS-SLEDGE            SG             SMG   \n",
              "106087      Gold  Attacker      BOPE-CAPITAO           LMG          Pistol   \n",
              "\n",
              "       secondarygadget  nbwins  nbkills  nbdeaths  nbpicks  k/d_ratio  \\\n",
              "179996    FRAG GRENADE      15       16         5       16   3.200000   \n",
              "374097    FRAG GRENADE      14       15         6       15   2.500000   \n",
              "413325   SMOKE GRENADE      14       13        13       15   1.000000   \n",
              "426423    FRAG GRENADE      13       11         6       14   1.833333   \n",
              "208811   BREACH CHARGE      13       10         9       14   1.111111   \n",
              "...                ...     ...      ...       ...      ...        ...   \n",
              "366824    STUN GRENADE       1        5        14       14   0.357143   \n",
              "98491     STUN GRENADE       1        5        14       14   0.357143   \n",
              "508957    STUN GRENADE       1       10        14       15   0.714286   \n",
              "37389     STUN GRENADE       1       11        14       15   0.785714   \n",
              "106087    STUN GRENADE       1        6        15       16   0.400000   \n",
              "\n",
              "        win_ratio  \n",
              "179996   0.937500  \n",
              "374097   0.933333  \n",
              "413325   0.933333  \n",
              "426423   0.928571  \n",
              "208811   0.928571  \n",
              "...           ...  \n",
              "366824   0.071429  \n",
              "98491    0.071429  \n",
              "508957   0.066667  \n",
              "37389    0.066667  \n",
              "106087   0.062500  \n",
              "\n",
              "[114007 rows x 12 columns]"
            ],
            "text/html": [
              "\n",
              "  <div id=\"df-0432f10e-4409-4f0b-bfa1-878d16e6a602\">\n",
              "    <div class=\"colab-df-container\">\n",
              "      <div>\n",
              "<style scoped>\n",
              "    .dataframe tbody tr th:only-of-type {\n",
              "        vertical-align: middle;\n",
              "    }\n",
              "\n",
              "    .dataframe tbody tr th {\n",
              "        vertical-align: top;\n",
              "    }\n",
              "\n",
              "    .dataframe thead th {\n",
              "        text-align: right;\n",
              "    }\n",
              "</style>\n",
              "<table border=\"1\" class=\"dataframe\">\n",
              "  <thead>\n",
              "    <tr style=\"text-align: right;\">\n",
              "      <th></th>\n",
              "      <th>skillrank</th>\n",
              "      <th>role</th>\n",
              "      <th>operator</th>\n",
              "      <th>primaryweapon</th>\n",
              "      <th>secondaryweapon</th>\n",
              "      <th>secondarygadget</th>\n",
              "      <th>nbwins</th>\n",
              "      <th>nbkills</th>\n",
              "      <th>nbdeaths</th>\n",
              "      <th>nbpicks</th>\n",
              "      <th>k/d_ratio</th>\n",
              "      <th>win_ratio</th>\n",
              "    </tr>\n",
              "  </thead>\n",
              "  <tbody>\n",
              "    <tr>\n",
              "      <th>179996</th>\n",
              "      <td>Gold</td>\n",
              "      <td>Attacker</td>\n",
              "      <td>SAS-SLEDGE</td>\n",
              "      <td>SG</td>\n",
              "      <td>Pistol</td>\n",
              "      <td>FRAG GRENADE</td>\n",
              "      <td>15</td>\n",
              "      <td>16</td>\n",
              "      <td>5</td>\n",
              "      <td>16</td>\n",
              "      <td>3.200000</td>\n",
              "      <td>0.937500</td>\n",
              "    </tr>\n",
              "    <tr>\n",
              "      <th>374097</th>\n",
              "      <td>Gold</td>\n",
              "      <td>Attacker</td>\n",
              "      <td>SPETSNAZ-RESERVE</td>\n",
              "      <td>AR</td>\n",
              "      <td>Pistol</td>\n",
              "      <td>FRAG GRENADE</td>\n",
              "      <td>14</td>\n",
              "      <td>15</td>\n",
              "      <td>6</td>\n",
              "      <td>15</td>\n",
              "      <td>2.500000</td>\n",
              "      <td>0.933333</td>\n",
              "    </tr>\n",
              "    <tr>\n",
              "      <th>413325</th>\n",
              "      <td>Diamond</td>\n",
              "      <td>Attacker</td>\n",
              "      <td>GSG9-BLITZ</td>\n",
              "      <td>Shield</td>\n",
              "      <td>Pistol</td>\n",
              "      <td>SMOKE GRENADE</td>\n",
              "      <td>14</td>\n",
              "      <td>13</td>\n",
              "      <td>13</td>\n",
              "      <td>15</td>\n",
              "      <td>1.000000</td>\n",
              "      <td>0.933333</td>\n",
              "    </tr>\n",
              "    <tr>\n",
              "      <th>426423</th>\n",
              "      <td>Diamond</td>\n",
              "      <td>Attacker</td>\n",
              "      <td>GSG9-IQ</td>\n",
              "      <td>AR</td>\n",
              "      <td>Pistol</td>\n",
              "      <td>FRAG GRENADE</td>\n",
              "      <td>13</td>\n",
              "      <td>11</td>\n",
              "      <td>6</td>\n",
              "      <td>14</td>\n",
              "      <td>1.833333</td>\n",
              "      <td>0.928571</td>\n",
              "    </tr>\n",
              "    <tr>\n",
              "      <th>208811</th>\n",
              "      <td>Gold</td>\n",
              "      <td>Attacker</td>\n",
              "      <td>GIGN-TWITCH</td>\n",
              "      <td>SG</td>\n",
              "      <td>Pistol</td>\n",
              "      <td>BREACH CHARGE</td>\n",
              "      <td>13</td>\n",
              "      <td>10</td>\n",
              "      <td>9</td>\n",
              "      <td>14</td>\n",
              "      <td>1.111111</td>\n",
              "      <td>0.928571</td>\n",
              "    </tr>\n",
              "    <tr>\n",
              "      <th>...</th>\n",
              "      <td>...</td>\n",
              "      <td>...</td>\n",
              "      <td>...</td>\n",
              "      <td>...</td>\n",
              "      <td>...</td>\n",
              "      <td>...</td>\n",
              "      <td>...</td>\n",
              "      <td>...</td>\n",
              "      <td>...</td>\n",
              "      <td>...</td>\n",
              "      <td>...</td>\n",
              "      <td>...</td>\n",
              "    </tr>\n",
              "    <tr>\n",
              "      <th>366824</th>\n",
              "      <td>Platinum</td>\n",
              "      <td>Attacker</td>\n",
              "      <td>GSG9-RESERVE</td>\n",
              "      <td>SG</td>\n",
              "      <td>Pistol</td>\n",
              "      <td>STUN GRENADE</td>\n",
              "      <td>1</td>\n",
              "      <td>5</td>\n",
              "      <td>14</td>\n",
              "      <td>14</td>\n",
              "      <td>0.357143</td>\n",
              "      <td>0.071429</td>\n",
              "    </tr>\n",
              "    <tr>\n",
              "      <th>98491</th>\n",
              "      <td>Silver</td>\n",
              "      <td>Attacker</td>\n",
              "      <td>G.E.O.-JACKAL</td>\n",
              "      <td>AR</td>\n",
              "      <td>Pistol</td>\n",
              "      <td>STUN GRENADE</td>\n",
              "      <td>1</td>\n",
              "      <td>5</td>\n",
              "      <td>14</td>\n",
              "      <td>14</td>\n",
              "      <td>0.357143</td>\n",
              "      <td>0.071429</td>\n",
              "    </tr>\n",
              "    <tr>\n",
              "      <th>508957</th>\n",
              "      <td>Platinum</td>\n",
              "      <td>Attacker</td>\n",
              "      <td>SPETSNAZ-FUZE</td>\n",
              "      <td>AR</td>\n",
              "      <td>Pistol</td>\n",
              "      <td>STUN GRENADE</td>\n",
              "      <td>1</td>\n",
              "      <td>10</td>\n",
              "      <td>14</td>\n",
              "      <td>15</td>\n",
              "      <td>0.714286</td>\n",
              "      <td>0.066667</td>\n",
              "    </tr>\n",
              "    <tr>\n",
              "      <th>37389</th>\n",
              "      <td>Gold</td>\n",
              "      <td>Attacker</td>\n",
              "      <td>SAS-SLEDGE</td>\n",
              "      <td>SG</td>\n",
              "      <td>SMG</td>\n",
              "      <td>STUN GRENADE</td>\n",
              "      <td>1</td>\n",
              "      <td>11</td>\n",
              "      <td>14</td>\n",
              "      <td>15</td>\n",
              "      <td>0.785714</td>\n",
              "      <td>0.066667</td>\n",
              "    </tr>\n",
              "    <tr>\n",
              "      <th>106087</th>\n",
              "      <td>Gold</td>\n",
              "      <td>Attacker</td>\n",
              "      <td>BOPE-CAPITAO</td>\n",
              "      <td>LMG</td>\n",
              "      <td>Pistol</td>\n",
              "      <td>STUN GRENADE</td>\n",
              "      <td>1</td>\n",
              "      <td>6</td>\n",
              "      <td>15</td>\n",
              "      <td>16</td>\n",
              "      <td>0.400000</td>\n",
              "      <td>0.062500</td>\n",
              "    </tr>\n",
              "  </tbody>\n",
              "</table>\n",
              "<p>114007 rows × 12 columns</p>\n",
              "</div>\n",
              "      <button class=\"colab-df-convert\" onclick=\"convertToInteractive('df-0432f10e-4409-4f0b-bfa1-878d16e6a602')\"\n",
              "              title=\"Convert this dataframe to an interactive table.\"\n",
              "              style=\"display:none;\">\n",
              "        \n",
              "  <svg xmlns=\"http://www.w3.org/2000/svg\" height=\"24px\"viewBox=\"0 0 24 24\"\n",
              "       width=\"24px\">\n",
              "    <path d=\"M0 0h24v24H0V0z\" fill=\"none\"/>\n",
              "    <path d=\"M18.56 5.44l.94 2.06.94-2.06 2.06-.94-2.06-.94-.94-2.06-.94 2.06-2.06.94zm-11 1L8.5 8.5l.94-2.06 2.06-.94-2.06-.94L8.5 2.5l-.94 2.06-2.06.94zm10 10l.94 2.06.94-2.06 2.06-.94-2.06-.94-.94-2.06-.94 2.06-2.06.94z\"/><path d=\"M17.41 7.96l-1.37-1.37c-.4-.4-.92-.59-1.43-.59-.52 0-1.04.2-1.43.59L10.3 9.45l-7.72 7.72c-.78.78-.78 2.05 0 2.83L4 21.41c.39.39.9.59 1.41.59.51 0 1.02-.2 1.41-.59l7.78-7.78 2.81-2.81c.8-.78.8-2.07 0-2.86zM5.41 20L4 18.59l7.72-7.72 1.47 1.35L5.41 20z\"/>\n",
              "  </svg>\n",
              "      </button>\n",
              "      \n",
              "  <style>\n",
              "    .colab-df-container {\n",
              "      display:flex;\n",
              "      flex-wrap:wrap;\n",
              "      gap: 12px;\n",
              "    }\n",
              "\n",
              "    .colab-df-convert {\n",
              "      background-color: #E8F0FE;\n",
              "      border: none;\n",
              "      border-radius: 50%;\n",
              "      cursor: pointer;\n",
              "      display: none;\n",
              "      fill: #1967D2;\n",
              "      height: 32px;\n",
              "      padding: 0 0 0 0;\n",
              "      width: 32px;\n",
              "    }\n",
              "\n",
              "    .colab-df-convert:hover {\n",
              "      background-color: #E2EBFA;\n",
              "      box-shadow: 0px 1px 2px rgba(60, 64, 67, 0.3), 0px 1px 3px 1px rgba(60, 64, 67, 0.15);\n",
              "      fill: #174EA6;\n",
              "    }\n",
              "\n",
              "    [theme=dark] .colab-df-convert {\n",
              "      background-color: #3B4455;\n",
              "      fill: #D2E3FC;\n",
              "    }\n",
              "\n",
              "    [theme=dark] .colab-df-convert:hover {\n",
              "      background-color: #434B5C;\n",
              "      box-shadow: 0px 1px 3px 1px rgba(0, 0, 0, 0.15);\n",
              "      filter: drop-shadow(0px 1px 2px rgba(0, 0, 0, 0.3));\n",
              "      fill: #FFFFFF;\n",
              "    }\n",
              "  </style>\n",
              "\n",
              "      <script>\n",
              "        const buttonEl =\n",
              "          document.querySelector('#df-0432f10e-4409-4f0b-bfa1-878d16e6a602 button.colab-df-convert');\n",
              "        buttonEl.style.display =\n",
              "          google.colab.kernel.accessAllowed ? 'block' : 'none';\n",
              "\n",
              "        async function convertToInteractive(key) {\n",
              "          const element = document.querySelector('#df-0432f10e-4409-4f0b-bfa1-878d16e6a602');\n",
              "          const dataTable =\n",
              "            await google.colab.kernel.invokeFunction('convertToInteractive',\n",
              "                                                     [key], {});\n",
              "          if (!dataTable) return;\n",
              "\n",
              "          const docLinkHtml = 'Like what you see? Visit the ' +\n",
              "            '<a target=\"_blank\" href=https://colab.research.google.com/notebooks/data_table.ipynb>data table notebook</a>'\n",
              "            + ' to learn more about interactive tables.';\n",
              "          element.innerHTML = '';\n",
              "          dataTable['output_type'] = 'display_data';\n",
              "          await google.colab.output.renderOutput(dataTable, element);\n",
              "          const docLink = document.createElement('div');\n",
              "          docLink.innerHTML = docLinkHtml;\n",
              "          element.appendChild(docLink);\n",
              "        }\n",
              "      </script>\n",
              "    </div>\n",
              "  </div>\n",
              "  "
            ]
          },
          "metadata": {},
          "execution_count": 100
        }
      ],
      "source": [
        "ATT_operators = ATT_operators.sort_values(by='win_ratio' ,ascending=False)                                          \n",
        "\n",
        "ATT_operators_grap=ATT_operators[[\"operator\",\"win_ratio\",\"nbpicks\"]].sort_values(by='win_ratio' ,ascending=False).groupby(['operator'], as_index=False).mean().drop([3,7,10,16,18])            \n",
        "DEF_operators_grap=DEF_operators[[\"operator\",\"win_ratio\",\"nbpicks\"]].sort_values(by='win_ratio' ,ascending=False).groupby(['operator'], as_index=False).mean().drop([3,7,11,15,19])                             \n",
        "                                                                                                                      \n",
        "#오퍼레이터별 승률과 픽률에만 관심이 있기에 필요한 데이터만 추출    #오퍼레이터별로 데이터값 정리, 평균값으로 정리  # 즐겜용 캐릭터인 예비군 제거    \n",
        "\n",
        "ATT_operators"
      ]
    },
    {
      "cell_type": "code",
      "source": [
        "sns.relplot(x=\"nbpicks\", y=\"win_ratio\", hue=\"operator\", data=ATT_operators_grap)\n",
        "plt.show()"
      ],
      "metadata": {
        "colab": {
          "base_uri": "https://localhost:8080/",
          "height": 369
        },
        "id": "_rJj79Ii4fuJ",
        "outputId": "513df5d0-62a3-4a3c-8b1b-f95690eccbb3"
      },
      "execution_count": null,
      "outputs": [
        {
          "output_type": "display_data",
          "data": {
            "text/plain": [
              "<Figure size 518x360 with 1 Axes>"
            ],
            "image/png": "[encoded data removed]"
          },
          "metadata": {
            "needs_background": "light"
          }
        }
      ]
    },
    {
      "cell_type": "code",
      "source": [
        "sns.relplot(x=\"nbpicks\", y=\"win_ratio\", hue=\"operator\", data=DEF_operators_grap)\n",
        "plt.show()"
      ],
      "metadata": {
        "colab": {
          "base_uri": "https://localhost:8080/",
          "height": 369
        },
        "id": "-QWKBtS6AyQQ",
        "outputId": "0876fcd2-3ef2-4cd6-9acf-0f08da8712fb"
      },
      "execution_count": null,
      "outputs": [
        {
          "output_type": "display_data",
          "data": {
            "text/plain": [
              "<Figure size 504.625x360 with 1 Axes>"
            ],
            "image/png": "[encoded data removed]"
          },
          "metadata": {
            "needs_background": "light"
          }
        }
      ]
    },
    {
      "cell_type": "code",
      "execution_count": null,
      "metadata": {
        "id": "h2tvwiCtI6hf"
      },
      "outputs": [],
      "source": [
        "ATT_operators.drop([\"skillrank\", \"role\", \"operator\", \"secondarygadget\"], axis=1 , inplace=True)"
      ]
    },
    {
      "cell_type": "code",
      "execution_count": null,
      "metadata": {
        "id": "oE33-tjwqud7",
        "colab": {
          "base_uri": "https://localhost:8080/",
          "height": 299
        },
        "outputId": "59195dc7-93a1-4352-ddef-9274e3b34647"
      },
      "outputs": [
        {
          "output_type": "execute_result",
          "data": {
            "text/plain": [
              "0.07782543967342191"
            ]
          },
          "metadata": {},
          "execution_count": 104
        },
        {
          "output_type": "display_data",
          "data": {
            "text/plain": [
              "<Figure size 432x288 with 1 Axes>"
            ],
            "image/png": "[encoded data removed]"
          },
          "metadata": {
            "needs_background": "light"
          }
        }
      ],
      "source": [
        "from sklearn.linear_model import LinearRegression\n",
        "predict = operators['win_ratio'].mean()\n",
        "errors = predict - operators['win_ratio']\n",
        "mean_absolute_error = errors.abs().mean()\n",
        "\n",
        "y = operators['win_ratio']\n",
        "x = operators['k/d_ratio']\n",
        "\n",
        "sns.lineplot(x=x, y=predict, color='red')\n",
        "sns.scatterplot(x=x, y=y, color='blue')\n",
        "mean_absolute_error"
      ]
    },
    {
      "cell_type": "code",
      "execution_count": null,
      "metadata": {
        "id": "1n2adiQK906a",
        "colab": {
          "base_uri": "https://localhost:8080/",
          "height": 357
        },
        "outputId": "7faaa512-a17e-4044-b6df-7d04709b2f96"
      },
      "outputs": [
        {
          "output_type": "stream",
          "name": "stderr",
          "text": [
            "/usr/local/lib/python3.7/dist-packages/seaborn/_decorators.py:43: FutureWarning: Pass the following variables as keyword args: x, y. From version 0.12, the only valid positional argument will be `data`, and passing other arguments without an explicit keyword will result in an error or misinterpretation.\n",
            "  FutureWarning\n"
          ]
        },
        {
          "output_type": "execute_result",
          "data": {
            "text/plain": [
              "<matplotlib.axes._subplots.AxesSubplot at 0x7f110b59b950>"
            ]
          },
          "metadata": {},
          "execution_count": 105
        },
        {
          "output_type": "display_data",
          "data": {
            "text/plain": [
              "<Figure size 432x288 with 1 Axes>"
            ],
            "image/png": "[encoded data removed]"
          },
          "metadata": {
            "needs_background": "light"
          }
        }
      ],
      "source": [
        "sns.regplot(x, y)"
      ]
    },
    {
      "cell_type": "code",
      "execution_count": null,
      "metadata": {
        "colab": {
          "base_uri": "https://localhost:8080/"
        },
        "id": "_Irbtn8wAgwS",
        "outputId": "fec59b8b-9069-4390-e13a-6565dd4deac2"
      },
      "outputs": [
        {
          "output_type": "execute_result",
          "data": {
            "text/plain": [
              "LinearRegression()"
            ]
          },
          "metadata": {},
          "execution_count": 106
        }
      ],
      "source": [
        "from sklearn.linear_model import LinearRegression\n",
        "from sklearn.metrics import mean_absolute_error\n",
        "model = LinearRegression()\n",
        "feature = ['k/d_ratio']\n",
        "target = ['win_ratio']\n",
        "X_train = operators[feature]\n",
        "y_train = operators[target]\n",
        "model.fit(X_train, y_train)\n",
        "\n"
      ]
    },
    {
      "cell_type": "code",
      "execution_count": null,
      "metadata": {
        "colab": {
          "base_uri": "https://localhost:8080/",
          "height": 303
        },
        "id": "ZrO3n95nCnfL",
        "outputId": "6b1e29d8-f3b8-49f0-9480-de4b45af5218"
      },
      "outputs": [
        {
          "output_type": "stream",
          "name": "stderr",
          "text": [
            "/usr/local/lib/python3.7/dist-packages/sklearn/base.py:451: UserWarning: X does not have valid feature names, but LinearRegression was fitted with feature names\n",
            "  \"X does not have valid feature names, but\"\n"
          ]
        },
        {
          "output_type": "display_data",
          "data": {
            "text/plain": [
              "<Figure size 432x288 with 1 Axes>"
            ],
            "image/png": "[encoded data removed]"
          },
          "metadata": {
            "needs_background": "light"
          }
        }
      ],
      "source": [
        "from sklearn.impute import SimpleImputer \n",
        "from sklearn.ensemble import RandomForestClassifier\n",
        "from sklearn.metrics import r2_score\n",
        "\n",
        "X_test = [[x] for x in operators['k/d_ratio']]\n",
        "y_pred = model.predict(X_test)\n",
        "plt.scatter(X_train, y_train, color='black', linewidth=1)\n",
        "\n",
        "plt.scatter(X_test, y_pred, color='blue', linewidth=1);\n",
        "\n",
        "MAE = mean_absolute_error(X_test, y_pred)\n"
      ]
    },
    {
      "cell_type": "code",
      "execution_count": null,
      "metadata": {
        "id": "l-4hFQXxSQzg",
        "colab": {
          "base_uri": "https://localhost:8080/"
        },
        "outputId": "9bc3bcf5-ad4b-4918-d99d-cfc0bd300bdb"
      },
      "outputs": [
        {
          "output_type": "stream",
          "name": "stdout",
          "text": [
            "정확도 MAE :\n"
          ]
        },
        {
          "output_type": "execute_result",
          "data": {
            "text/plain": [
              "0.5548065508550163"
            ]
          },
          "metadata": {},
          "execution_count": 108
        }
      ],
      "source": [
        "print(\"정확도 MAE :\")\n",
        "MAE"
      ]
    },
    {
      "cell_type": "code",
      "execution_count": null,
      "metadata": {
        "id": "13cF_y07ClTB"
      },
      "outputs": [],
      "source": [
        "#다중선형회귀 기본 골자\n",
        "from sklearn.model_selection import train_test_split\n",
        "x = ATT_operators[[\"nbwins\" ,\"nbkills\",\"nbdeaths\"]]\n",
        "y = ATT_operators[['win_ratio']]\n",
        "x_train, x_test, y_train, y_test = train_test_split(x,y, train_size = 0.7, test_size = 0.3)\n",
        "model = LinearRegression()\n",
        "model = model.fit(x_train, y_train)\n",
        "\n",
        "y_predict = model.predict(x_test)\n",
        "\n"
      ]
    },
    {
      "cell_type": "code",
      "source": [],
      "metadata": {
        "id": "E6RV5a19CRvL"
      },
      "execution_count": null,
      "outputs": []
    },
    {
      "cell_type": "code",
      "source": [
        "Hot_ATT_operators=ATT_operators[[\"primaryweapon\",\"secondaryweapon\",\"k/d_ratio\",\"win_ratio\"] ]\n",
        "Hot_DEF_operators=DEF_operators[[\"primaryweapon\",\"secondaryweapon\",\"k/d_ratio\",\"win_ratio\"] ]"
      ],
      "metadata": {
        "id": "7ZSNlPE0o5DU"
      },
      "execution_count": null,
      "outputs": []
    },
    {
      "cell_type": "code",
      "source": [
        "Hot_ATT_operators = encoder.fit_transform(Hot_ATT_operators) # 원핫 인코딩 \n",
        "Hot_DEF_operators = encoder.fit_transform(Hot_DEF_operators) # 원핫 인코딩 "
      ],
      "metadata": {
        "id": "SEYqRfs4M3T3"
      },
      "execution_count": null,
      "outputs": []
    },
    {
      "cell_type": "code",
      "source": [
        "\n",
        "\n",
        "cols = Hot_DEF_operators[['primaryweapon_SMG','primaryweapon_SG','primaryweapon_AR']]\n",
        "target = Hot_DEF_operators[\"k/d_ratio\"]\n"
      ],
      "metadata": {
        "id": "d8XaMSYa6KaO"
      },
      "execution_count": null,
      "outputs": []
    },
    {
      "cell_type": "code",
      "source": [
        "X_col = pd.DataFrame( data=cols)\n",
        "y_target = pd.DataFrame( data=target)\n",
        "linear = LinearRegression()\n",
        "linear.fit(X_col, y_target)\n",
        "print('R2: ', linear.score(X_col, y_target))\n",
        "print('Intercept: ', linear.intercept_[0])\n"
      ],
      "metadata": {
        "colab": {
          "base_uri": "https://localhost:8080/"
        },
        "id": "bvpzRvf56KVV",
        "outputId": "82f2dbeb-646d-4ee4-eda2-a0ba40b0aad5"
      },
      "execution_count": null,
      "outputs": [
        {
          "output_type": "stream",
          "name": "stdout",
          "text": [
            "R2:  0.010836081026299516\n",
            "Intercept:  2547698453798.9326\n"
          ]
        }
      ]
    },
    {
      "cell_type": "code",
      "source": [
        "import graphviz\n",
        "from ipywidgets import interact\n",
        "from sklearn.tree import DecisionTreeRegressor, export_graphviz\n",
        "\n",
        "def show_tree(tree, colnames):\n",
        "    dot = export_graphviz(tree, feature_names=colnames, filled=True, rounded=True)   \n",
        "    return graphviz.Source(dot)\n",
        "\n",
        "from sklearn.tree import DecisionTreeRegressor\n",
        "\n",
        "tree = DecisionTreeRegressor(criterion=\"mae\")\n",
        "tree.fit(X_col, y_target)\n",
        "print('R2', tree.score(X_col, y_target))\n",
        "show_tree(tree, colnames=X_col.columns)\n",
        "\n"
      ],
      "metadata": {
        "colab": {
          "base_uri": "https://localhost:8080/",
          "height": 435
        },
        "id": "cvhv0ntnAp0d",
        "outputId": "9c51c0d3-d433-4203-a090-e715a0bc06ce"
      },
      "execution_count": null,
      "outputs": [
        {
          "output_type": "stream",
          "name": "stderr",
          "text": [
            "/usr/local/lib/python3.7/dist-packages/sklearn/tree/_classes.py:370: FutureWarning: Criterion 'mae' was deprecated in v1.0 and will be removed in version 1.2. Use `criterion='absolute_error'` which is equivalent.\n",
            "  FutureWarning,\n"
          ]
        },
        {
          "output_type": "stream",
          "name": "stdout",
          "text": [
            "R2 0.002623978086583878\n"
          ]
        },
        {
          "output_type": "execute_result",
          "data": {
            "text/plain": [
              "<graphviz.files.Source at 0x7f110b6033d0>"
            ],
            "image/svg+xml": "<?xml version=\"1.0\" encoding=\"UTF-8\" standalone=\"no\"?>\n<!DOCTYPE svg PUBLIC \"-//W3C//DTD SVG 1.1//EN\"\n \"http://www.w3.org/Graphics/SVG/1.1/DTD/svg11.dtd\">\n<!-- Generated by graphviz version 2.40.1 (20161225.0304)\n -->\n<!-- Title: Tree Pages: 1 -->\n<svg width=\"384pt\" height=\"269pt\"\n viewBox=\"0.00 0.00 384.00 269.00\" xmlns=\"http://www.w3.org/2000/svg\" xmlns:xlink=\"http://www.w3.org/1999/xlink\">\n<g id=\"graph0\" class=\"graph\" transform=\"scale(1 1) rotate(0) translate(4 265)\">\n<title>Tree</title>\n<polygon fill=\"#ffffff\" stroke=\"transparent\" points=\"-4,4 -4,-265 380,-265 380,4 -4,4\"/>\n<!-- 0 -->\n<g id=\"node1\" class=\"node\">\n<title>0</title>\n<path fill=\"#f5cdb1\" stroke=\"#000000\" d=\"M306,-261C306,-261 140,-261 140,-261 134,-261 128,-255 128,-249 128,-249 128,-205 128,-205 128,-199 134,-193 140,-193 140,-193 306,-193 306,-193 312,-193 318,-199 318,-205 318,-205 318,-249 318,-249 318,-255 312,-261 306,-261\"/>\n<text text-anchor=\"middle\" x=\"223\" y=\"-245.8\" font-family=\"Helvetica,sans-Serif\" font-size=\"14.00\" fill=\"#000000\">primaryweapon_SG &lt;= 0.5</text>\n<text text-anchor=\"middle\" x=\"223\" y=\"-230.8\" font-family=\"Helvetica,sans-Serif\" font-size=\"14.00\" fill=\"#000000\">mae = 0.348</text>\n<text text-anchor=\"middle\" x=\"223\" y=\"-215.8\" font-family=\"Helvetica,sans-Serif\" font-size=\"14.00\" fill=\"#000000\">samples = 113734</text>\n<text text-anchor=\"middle\" x=\"223\" y=\"-200.8\" font-family=\"Helvetica,sans-Serif\" font-size=\"14.00\" fill=\"#000000\">value = 0.941</text>\n</g>\n<!-- 1 -->\n<g id=\"node2\" class=\"node\">\n<title>1</title>\n<path fill=\"#f0b78e\" stroke=\"#000000\" d=\"M217.5,-157C217.5,-157 52.5,-157 52.5,-157 46.5,-157 40.5,-151 40.5,-145 40.5,-145 40.5,-101 40.5,-101 40.5,-95 46.5,-89 52.5,-89 52.5,-89 217.5,-89 217.5,-89 223.5,-89 229.5,-95 229.5,-101 229.5,-101 229.5,-145 229.5,-145 229.5,-151 223.5,-157 217.5,-157\"/>\n<text text-anchor=\"middle\" x=\"135\" y=\"-141.8\" font-family=\"Helvetica,sans-Serif\" font-size=\"14.00\" fill=\"#000000\">primaryweapon_AR &lt;= 0.5</text>\n<text text-anchor=\"middle\" x=\"135\" y=\"-126.8\" font-family=\"Helvetica,sans-Serif\" font-size=\"14.00\" fill=\"#000000\">mae = 0.317</text>\n<text text-anchor=\"middle\" x=\"135\" y=\"-111.8\" font-family=\"Helvetica,sans-Serif\" font-size=\"14.00\" fill=\"#000000\">samples = 69108</text>\n<text text-anchor=\"middle\" x=\"135\" y=\"-96.8\" font-family=\"Helvetica,sans-Serif\" font-size=\"14.00\" fill=\"#000000\">value = 0.989</text>\n</g>\n<!-- 0&#45;&gt;1 -->\n<g id=\"edge1\" class=\"edge\">\n<title>0&#45;&gt;1</title>\n<path fill=\"none\" stroke=\"#000000\" d=\"M194.1855,-192.9465C186.5883,-183.968 178.3026,-174.1758 170.4018,-164.8385\"/>\n<polygon fill=\"#000000\" stroke=\"#000000\" points=\"173.0105,-162.5031 163.8792,-157.13 167.6668,-167.0247 173.0105,-162.5031\"/>\n<text text-anchor=\"middle\" x=\"161.8031\" y=\"-178.3436\" font-family=\"Helvetica,sans-Serif\" font-size=\"14.00\" fill=\"#000000\">True</text>\n</g>\n<!-- 4 -->\n<g id=\"node5\" class=\"node\">\n<title>4</title>\n<path fill=\"#ffffff\" stroke=\"#000000\" d=\"M364,-149.5C364,-149.5 260,-149.5 260,-149.5 254,-149.5 248,-143.5 248,-137.5 248,-137.5 248,-108.5 248,-108.5 248,-102.5 254,-96.5 260,-96.5 260,-96.5 364,-96.5 364,-96.5 370,-96.5 376,-102.5 376,-108.5 376,-108.5 376,-137.5 376,-137.5 376,-143.5 370,-149.5 364,-149.5\"/>\n<text text-anchor=\"middle\" x=\"312\" y=\"-134.3\" font-family=\"Helvetica,sans-Serif\" font-size=\"14.00\" fill=\"#000000\">mae = 0.38</text>\n<text text-anchor=\"middle\" x=\"312\" y=\"-119.3\" font-family=\"Helvetica,sans-Serif\" font-size=\"14.00\" fill=\"#000000\">samples = 44626</text>\n<text text-anchor=\"middle\" x=\"312\" y=\"-104.3\" font-family=\"Helvetica,sans-Serif\" font-size=\"14.00\" fill=\"#000000\">value = 0.833</text>\n</g>\n<!-- 0&#45;&gt;4 -->\n<g id=\"edge4\" class=\"edge\">\n<title>0&#45;&gt;4</title>\n<path fill=\"none\" stroke=\"#000000\" d=\"M252.1419,-192.9465C261.9452,-181.491 272.8819,-168.711 282.6975,-157.2412\"/>\n<polygon fill=\"#000000\" stroke=\"#000000\" points=\"285.4433,-159.4156 289.286,-149.5422 280.1249,-154.8642 285.4433,-159.4156\"/>\n<text text-anchor=\"middle\" x=\"291.2232\" y=\"-170.767\" font-family=\"Helvetica,sans-Serif\" font-size=\"14.00\" fill=\"#000000\">False</text>\n</g>\n<!-- 2 -->\n<g id=\"node3\" class=\"node\">\n<title>2</title>\n<path fill=\"#f1bb94\" stroke=\"#000000\" d=\"M116,-53C116,-53 12,-53 12,-53 6,-53 0,-47 0,-41 0,-41 0,-12 0,-12 0,-6 6,0 12,0 12,0 116,0 116,0 122,0 128,-6 128,-12 128,-12 128,-41 128,-41 128,-47 122,-53 116,-53\"/>\n<text text-anchor=\"middle\" x=\"64\" y=\"-37.8\" font-family=\"Helvetica,sans-Serif\" font-size=\"14.00\" fill=\"#000000\">mae = 0.317</text>\n<text text-anchor=\"middle\" x=\"64\" y=\"-22.8\" font-family=\"Helvetica,sans-Serif\" font-size=\"14.00\" fill=\"#000000\">samples = 65307</text>\n<text text-anchor=\"middle\" x=\"64\" y=\"-7.8\" font-family=\"Helvetica,sans-Serif\" font-size=\"14.00\" fill=\"#000000\">value = 0.98</text>\n</g>\n<!-- 1&#45;&gt;2 -->\n<g id=\"edge2\" class=\"edge\">\n<title>1&#45;&gt;2</title>\n<path fill=\"none\" stroke=\"#000000\" d=\"M109.9681,-88.9777C103.4329,-80.0954 96.378,-70.5067 89.8036,-61.5711\"/>\n<polygon fill=\"#000000\" stroke=\"#000000\" points=\"92.4257,-59.229 83.6802,-53.2485 86.7874,-63.3775 92.4257,-59.229\"/>\n</g>\n<!-- 3 -->\n<g id=\"node4\" class=\"node\">\n<title>3</title>\n<path fill=\"#e58139\" stroke=\"#000000\" d=\"M254,-53C254,-53 158,-53 158,-53 152,-53 146,-47 146,-41 146,-41 146,-12 146,-12 146,-6 152,0 158,0 158,0 254,0 254,0 260,0 266,-6 266,-12 266,-12 266,-41 266,-41 266,-47 260,-53 254,-53\"/>\n<text text-anchor=\"middle\" x=\"206\" y=\"-37.8\" font-family=\"Helvetica,sans-Serif\" font-size=\"14.00\" fill=\"#000000\">mae = 0.286</text>\n<text text-anchor=\"middle\" x=\"206\" y=\"-22.8\" font-family=\"Helvetica,sans-Serif\" font-size=\"14.00\" fill=\"#000000\">samples = 3801</text>\n<text text-anchor=\"middle\" x=\"206\" y=\"-7.8\" font-family=\"Helvetica,sans-Serif\" font-size=\"14.00\" fill=\"#000000\">value = 1.105</text>\n</g>\n<!-- 1&#45;&gt;3 -->\n<g id=\"edge3\" class=\"edge\">\n<title>1&#45;&gt;3</title>\n<path fill=\"none\" stroke=\"#000000\" d=\"M160.0319,-88.9777C166.5671,-80.0954 173.622,-70.5067 180.1964,-61.5711\"/>\n<polygon fill=\"#000000\" stroke=\"#000000\" points=\"183.2126,-63.3775 186.3198,-53.2485 177.5743,-59.229 183.2126,-63.3775\"/>\n</g>\n</g>\n</svg>\n"
          },
          "metadata": {},
          "execution_count": 114
        }
      ]
    },
    {
      "cell_type": "code",
      "source": [
        "\n",
        "\n",
        "cols = Hot_ATT_operators[['primaryweapon_SMG','primaryweapon_SG','primaryweapon_AR']]\n",
        "target = Hot_ATT_operators[\"k/d_ratio\"]\n",
        "\n",
        "X_col = pd.DataFrame( data=cols)\n",
        "y_target = pd.DataFrame( data=target)\n",
        "linear = LinearRegression()\n",
        "linear.fit(X_col, y_target)\n",
        "print('R2: ', linear.score(X_col, y_target))\n",
        "print('Intercept: ', linear.intercept_[0])\n",
        "\n",
        "tree = DecisionTreeRegressor(criterion=\"mae\")\n",
        "tree.fit(X_col, y_target)\n",
        "print('R2', tree.score(X_col, y_target))\n",
        "show_tree(tree, colnames=X_col.columns)\n"
      ],
      "metadata": {
        "colab": {
          "base_uri": "https://localhost:8080/",
          "height": 611
        },
        "id": "0IDFM6PkFDhW",
        "outputId": "854e06da-f38b-45ab-8071-799085a556b9"
      },
      "execution_count": null,
      "outputs": [
        {
          "output_type": "stream",
          "name": "stdout",
          "text": [
            "R2:  0.026073903001090803\n",
            "Intercept:  1.0029911965209035\n"
          ]
        },
        {
          "output_type": "stream",
          "name": "stderr",
          "text": [
            "/usr/local/lib/python3.7/dist-packages/sklearn/tree/_classes.py:370: FutureWarning: Criterion 'mae' was deprecated in v1.0 and will be removed in version 1.2. Use `criterion='absolute_error'` which is equivalent.\n",
            "  FutureWarning,\n"
          ]
        },
        {
          "output_type": "stream",
          "name": "stdout",
          "text": [
            "R2 0.015332933452986364\n"
          ]
        },
        {
          "output_type": "execute_result",
          "data": {
            "text/plain": [
              "<graphviz.files.Source at 0x7f11065d2a90>"
            ],
            "image/svg+xml": "<?xml version=\"1.0\" encoding=\"UTF-8\" standalone=\"no\"?>\n<!DOCTYPE svg PUBLIC \"-//W3C//DTD SVG 1.1//EN\"\n \"http://www.w3.org/Graphics/SVG/1.1/DTD/svg11.dtd\">\n<!-- Generated by graphviz version 2.40.1 (20161225.0304)\n -->\n<!-- Title: Tree Pages: 1 -->\n<svg width=\"475pt\" height=\"373pt\"\n viewBox=\"0.00 0.00 475.00 373.00\" xmlns=\"http://www.w3.org/2000/svg\" xmlns:xlink=\"http://www.w3.org/1999/xlink\">\n<g id=\"graph0\" class=\"graph\" transform=\"scale(1 1) rotate(0) translate(4 369)\">\n<title>Tree</title>\n<polygon fill=\"#ffffff\" stroke=\"transparent\" points=\"-4,4 -4,-369 471,-369 471,4 -4,4\"/>\n<!-- 0 -->\n<g id=\"node1\" class=\"node\">\n<title>0</title>\n<path fill=\"#eb9c64\" stroke=\"#000000\" d=\"M397,-365C397,-365 231,-365 231,-365 225,-365 219,-359 219,-353 219,-353 219,-309 219,-309 219,-303 225,-297 231,-297 231,-297 397,-297 397,-297 403,-297 409,-303 409,-309 409,-309 409,-353 409,-353 409,-359 403,-365 397,-365\"/>\n<text text-anchor=\"middle\" x=\"314\" y=\"-349.8\" font-family=\"Helvetica,sans-Serif\" font-size=\"14.00\" fill=\"#000000\">primaryweapon_SG &lt;= 0.5</text>\n<text text-anchor=\"middle\" x=\"314\" y=\"-334.8\" font-family=\"Helvetica,sans-Serif\" font-size=\"14.00\" fill=\"#000000\">mae = 0.369</text>\n<text text-anchor=\"middle\" x=\"314\" y=\"-319.8\" font-family=\"Helvetica,sans-Serif\" font-size=\"14.00\" fill=\"#000000\">samples = 114007</text>\n<text text-anchor=\"middle\" x=\"314\" y=\"-304.8\" font-family=\"Helvetica,sans-Serif\" font-size=\"14.00\" fill=\"#000000\">value = 1.0</text>\n</g>\n<!-- 1 -->\n<g id=\"node2\" class=\"node\">\n<title>1</title>\n<path fill=\"#e78c4b\" stroke=\"#000000\" d=\"M308.5,-261C308.5,-261 143.5,-261 143.5,-261 137.5,-261 131.5,-255 131.5,-249 131.5,-249 131.5,-205 131.5,-205 131.5,-199 137.5,-193 143.5,-193 143.5,-193 308.5,-193 308.5,-193 314.5,-193 320.5,-199 320.5,-205 320.5,-205 320.5,-249 320.5,-249 320.5,-255 314.5,-261 308.5,-261\"/>\n<text text-anchor=\"middle\" x=\"226\" y=\"-245.8\" font-family=\"Helvetica,sans-Serif\" font-size=\"14.00\" fill=\"#000000\">primaryweapon_AR &lt;= 0.5</text>\n<text text-anchor=\"middle\" x=\"226\" y=\"-230.8\" font-family=\"Helvetica,sans-Serif\" font-size=\"14.00\" fill=\"#000000\">mae = 0.344</text>\n<text text-anchor=\"middle\" x=\"226\" y=\"-215.8\" font-family=\"Helvetica,sans-Serif\" font-size=\"14.00\" fill=\"#000000\">samples = 95617</text>\n<text text-anchor=\"middle\" x=\"226\" y=\"-200.8\" font-family=\"Helvetica,sans-Serif\" font-size=\"14.00\" fill=\"#000000\">value = 1.04</text>\n</g>\n<!-- 0&#45;&gt;1 -->\n<g id=\"edge1\" class=\"edge\">\n<title>0&#45;&gt;1</title>\n<path fill=\"none\" stroke=\"#000000\" d=\"M285.1855,-296.9465C277.5883,-287.968 269.3026,-278.1758 261.4018,-268.8385\"/>\n<polygon fill=\"#000000\" stroke=\"#000000\" points=\"264.0105,-266.5031 254.8792,-261.13 258.6668,-271.0247 264.0105,-266.5031\"/>\n<text text-anchor=\"middle\" x=\"252.8031\" y=\"-282.3436\" font-family=\"Helvetica,sans-Serif\" font-size=\"14.00\" fill=\"#000000\">True</text>\n</g>\n<!-- 6 -->\n<g id=\"node7\" class=\"node\">\n<title>6</title>\n<path fill=\"#ffffff\" stroke=\"#000000\" d=\"M455,-253.5C455,-253.5 351,-253.5 351,-253.5 345,-253.5 339,-247.5 339,-241.5 339,-241.5 339,-212.5 339,-212.5 339,-206.5 345,-200.5 351,-200.5 351,-200.5 455,-200.5 455,-200.5 461,-200.5 467,-206.5 467,-212.5 467,-212.5 467,-241.5 467,-241.5 467,-247.5 461,-253.5 455,-253.5\"/>\n<text text-anchor=\"middle\" x=\"403\" y=\"-238.3\" font-family=\"Helvetica,sans-Serif\" font-size=\"14.00\" fill=\"#000000\">mae = 0.441</text>\n<text text-anchor=\"middle\" x=\"403\" y=\"-223.3\" font-family=\"Helvetica,sans-Serif\" font-size=\"14.00\" fill=\"#000000\">samples = 18390</text>\n<text text-anchor=\"middle\" x=\"403\" y=\"-208.3\" font-family=\"Helvetica,sans-Serif\" font-size=\"14.00\" fill=\"#000000\">value = 0.75</text>\n</g>\n<!-- 0&#45;&gt;6 -->\n<g id=\"edge6\" class=\"edge\">\n<title>0&#45;&gt;6</title>\n<path fill=\"none\" stroke=\"#000000\" d=\"M343.1419,-296.9465C352.9452,-285.491 363.8819,-272.711 373.6975,-261.2412\"/>\n<polygon fill=\"#000000\" stroke=\"#000000\" points=\"376.4433,-263.4156 380.286,-253.5422 371.1249,-258.8642 376.4433,-263.4156\"/>\n<text text-anchor=\"middle\" x=\"382.2232\" y=\"-274.767\" font-family=\"Helvetica,sans-Serif\" font-size=\"14.00\" fill=\"#000000\">False</text>\n</g>\n<!-- 2 -->\n<g id=\"node3\" class=\"node\">\n<title>2</title>\n<path fill=\"#eda775\" stroke=\"#000000\" d=\"M224,-157C224,-157 46,-157 46,-157 40,-157 34,-151 34,-145 34,-145 34,-101 34,-101 34,-95 40,-89 46,-89 46,-89 224,-89 224,-89 230,-89 236,-95 236,-101 236,-101 236,-145 236,-145 236,-151 230,-157 224,-157\"/>\n<text text-anchor=\"middle\" x=\"135\" y=\"-141.8\" font-family=\"Helvetica,sans-Serif\" font-size=\"14.00\" fill=\"#000000\">primaryweapon_SMG &lt;= 0.5</text>\n<text text-anchor=\"middle\" x=\"135\" y=\"-126.8\" font-family=\"Helvetica,sans-Serif\" font-size=\"14.00\" fill=\"#000000\">mae = 0.363</text>\n<text text-anchor=\"middle\" x=\"135\" y=\"-111.8\" font-family=\"Helvetica,sans-Serif\" font-size=\"14.00\" fill=\"#000000\">samples = 27318</text>\n<text text-anchor=\"middle\" x=\"135\" y=\"-96.8\" font-family=\"Helvetica,sans-Serif\" font-size=\"14.00\" fill=\"#000000\">value = 0.973</text>\n</g>\n<!-- 1&#45;&gt;2 -->\n<g id=\"edge2\" class=\"edge\">\n<title>1&#45;&gt;2</title>\n<path fill=\"none\" stroke=\"#000000\" d=\"M196.2032,-192.9465C188.347,-183.968 179.7788,-174.1758 171.6087,-164.8385\"/>\n<polygon fill=\"#000000\" stroke=\"#000000\" points=\"174.0829,-162.351 164.8637,-157.13 168.8148,-166.9606 174.0829,-162.351\"/>\n</g>\n<!-- 5 -->\n<g id=\"node6\" class=\"node\">\n<title>5</title>\n<path fill=\"#e58139\" stroke=\"#000000\" d=\"M370,-149.5C370,-149.5 266,-149.5 266,-149.5 260,-149.5 254,-143.5 254,-137.5 254,-137.5 254,-108.5 254,-108.5 254,-102.5 260,-96.5 266,-96.5 266,-96.5 370,-96.5 370,-96.5 376,-96.5 382,-102.5 382,-108.5 382,-108.5 382,-137.5 382,-137.5 382,-143.5 376,-149.5 370,-149.5\"/>\n<text text-anchor=\"middle\" x=\"318\" y=\"-134.3\" font-family=\"Helvetica,sans-Serif\" font-size=\"14.00\" fill=\"#000000\">mae = 0.332</text>\n<text text-anchor=\"middle\" x=\"318\" y=\"-119.3\" font-family=\"Helvetica,sans-Serif\" font-size=\"14.00\" fill=\"#000000\">samples = 68299</text>\n<text text-anchor=\"middle\" x=\"318\" y=\"-104.3\" font-family=\"Helvetica,sans-Serif\" font-size=\"14.00\" fill=\"#000000\">value = 1.069</text>\n</g>\n<!-- 1&#45;&gt;5 -->\n<g id=\"edge5\" class=\"edge\">\n<title>1&#45;&gt;5</title>\n<path fill=\"none\" stroke=\"#000000\" d=\"M256.1242,-192.9465C266.258,-181.491 277.5633,-168.711 287.7097,-157.2412\"/>\n<polygon fill=\"#000000\" stroke=\"#000000\" points=\"290.5161,-159.3512 294.5204,-149.5422 285.2731,-154.7131 290.5161,-159.3512\"/>\n</g>\n<!-- 3 -->\n<g id=\"node4\" class=\"node\">\n<title>3</title>\n<path fill=\"#efb488\" stroke=\"#000000\" d=\"M116,-53C116,-53 12,-53 12,-53 6,-53 0,-47 0,-41 0,-41 0,-12 0,-12 0,-6 6,0 12,0 12,0 116,0 116,0 122,0 128,-6 128,-12 128,-12 128,-41 128,-41 128,-47 122,-53 116,-53\"/>\n<text text-anchor=\"middle\" x=\"64\" y=\"-37.8\" font-family=\"Helvetica,sans-Serif\" font-size=\"14.00\" fill=\"#000000\">mae = 0.371</text>\n<text text-anchor=\"middle\" x=\"64\" y=\"-22.8\" font-family=\"Helvetica,sans-Serif\" font-size=\"14.00\" fill=\"#000000\">samples = 23230</text>\n<text text-anchor=\"middle\" x=\"64\" y=\"-7.8\" font-family=\"Helvetica,sans-Serif\" font-size=\"14.00\" fill=\"#000000\">value = 0.941</text>\n</g>\n<!-- 2&#45;&gt;3 -->\n<g id=\"edge3\" class=\"edge\">\n<title>2&#45;&gt;3</title>\n<path fill=\"none\" stroke=\"#000000\" d=\"M109.9681,-88.9777C103.4329,-80.0954 96.378,-70.5067 89.8036,-61.5711\"/>\n<polygon fill=\"#000000\" stroke=\"#000000\" points=\"92.4257,-59.229 83.6802,-53.2485 86.7874,-63.3775 92.4257,-59.229\"/>\n</g>\n<!-- 4 -->\n<g id=\"node5\" class=\"node\">\n<title>4</title>\n<path fill=\"#e78d4c\" stroke=\"#000000\" d=\"M254,-53C254,-53 158,-53 158,-53 152,-53 146,-47 146,-41 146,-41 146,-12 146,-12 146,-6 152,0 158,0 158,0 254,0 254,0 260,0 266,-6 266,-12 266,-12 266,-41 266,-41 266,-47 260,-53 254,-53\"/>\n<text text-anchor=\"middle\" x=\"206\" y=\"-37.8\" font-family=\"Helvetica,sans-Serif\" font-size=\"14.00\" fill=\"#000000\">mae = 0.304</text>\n<text text-anchor=\"middle\" x=\"206\" y=\"-22.8\" font-family=\"Helvetica,sans-Serif\" font-size=\"14.00\" fill=\"#000000\">samples = 4088</text>\n<text text-anchor=\"middle\" x=\"206\" y=\"-7.8\" font-family=\"Helvetica,sans-Serif\" font-size=\"14.00\" fill=\"#000000\">value = 1.039</text>\n</g>\n<!-- 2&#45;&gt;4 -->\n<g id=\"edge4\" class=\"edge\">\n<title>2&#45;&gt;4</title>\n<path fill=\"none\" stroke=\"#000000\" d=\"M160.0319,-88.9777C166.5671,-80.0954 173.622,-70.5067 180.1964,-61.5711\"/>\n<polygon fill=\"#000000\" stroke=\"#000000\" points=\"183.2126,-63.3775 186.3198,-53.2485 177.5743,-59.229 183.2126,-63.3775\"/>\n</g>\n</g>\n</svg>\n"
          },
          "metadata": {},
          "execution_count": 115
        }
      ]
    },
    {
      "cell_type": "code",
      "source": [],
      "metadata": {
        "id": "aDzydx3pj7W9"
      },
      "execution_count": null,
      "outputs": []
    }
  ],
  "metadata": {
    "colab": {
      "name": "Untitled11.ipynb",
      "provenance": []
    },
    "kernelspec": {
      "display_name": "Python 3",
      "name": "python3"
    },
    "language_info": {
      "name": "python"
    }
  },
  "nbformat": 4,
  "nbformat_minor": 0
}