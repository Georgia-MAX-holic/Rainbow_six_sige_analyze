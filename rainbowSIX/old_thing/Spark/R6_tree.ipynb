{
  "nbformat": 4,
  "nbformat_minor": 0,
  "metadata": {
    "colab": {
      "name": "Untitled19.ipynb의 사본",
      "provenance": [],
      "collapsed_sections": [],
      "authorship_tag": "ABX9TyP+urEJMGRoRs1pBCEk3h9O",
      "include_colab_link": true
    },
    "kernelspec": {
      "name": "python3",
      "display_name": "Python 3"
    },
    "language_info": {
      "name": "python"
    }
  },
  "cells": [
    {
      "cell_type": "markdown",
      "metadata": {
        "id": "view-in-github",
        "colab_type": "text"
      },
      "source": [
        "<a href=\"https://colab.research.google.com/github/Georgia-MAX-holic/R6_data_stduy/blob/main/%20R6_data_stduy/R6_result_pyspark/R6_tree.ipynb\" target=\"_parent\"><img src=\"https://colab.research.google.com/assets/colab-badge.svg\" alt=\"Open In Colab\"/></a>"
      ]
    },
    {
      "cell_type": "code",
      "execution_count": null,
      "metadata": {
        "id": "vemkGnCrhcUM",
        "colab": {
          "base_uri": "https://localhost:8080/"
        },
        "outputId": "14247ef3-cfc3-43d3-ec00-5437576ce8ca"
      },
      "outputs": [
        {
          "output_type": "stream",
          "name": "stdout",
          "text": [
            "Looking in indexes: https://pypi.org/simple, https://us-python.pkg.dev/colab-wheels/public/simple/\n",
            "Requirement already satisfied: pyspark in /usr/local/lib/python3.7/dist-packages (3.2.1)\n",
            "Requirement already satisfied: py4j==0.10.9.3 in /usr/local/lib/python3.7/dist-packages (from pyspark) (0.10.9.3)\n",
            "Looking in indexes: https://pypi.org/simple, https://us-python.pkg.dev/colab-wheels/public/simple/\n",
            "Requirement already satisfied: category_encoders in /usr/local/lib/python3.7/dist-packages (2.5.0)\n",
            "Requirement already satisfied: numpy>=1.14.0 in /usr/local/lib/python3.7/dist-packages (from category_encoders) (1.21.6)\n",
            "Requirement already satisfied: statsmodels>=0.9.0 in /usr/local/lib/python3.7/dist-packages (from category_encoders) (0.10.2)\n",
            "Requirement already satisfied: pandas>=1.0.5 in /usr/local/lib/python3.7/dist-packages (from category_encoders) (1.3.5)\n",
            "Requirement already satisfied: patsy>=0.5.1 in /usr/local/lib/python3.7/dist-packages (from category_encoders) (0.5.2)\n",
            "Requirement already satisfied: scikit-learn>=0.20.0 in /usr/local/lib/python3.7/dist-packages (from category_encoders) (1.0.2)\n",
            "Requirement already satisfied: scipy>=1.0.0 in /usr/local/lib/python3.7/dist-packages (from category_encoders) (1.4.1)\n",
            "Requirement already satisfied: python-dateutil>=2.7.3 in /usr/local/lib/python3.7/dist-packages (from pandas>=1.0.5->category_encoders) (2.8.2)\n",
            "Requirement already satisfied: pytz>=2017.3 in /usr/local/lib/python3.7/dist-packages (from pandas>=1.0.5->category_encoders) (2022.1)\n",
            "Requirement already satisfied: six in /usr/local/lib/python3.7/dist-packages (from patsy>=0.5.1->category_encoders) (1.15.0)\n",
            "Requirement already satisfied: threadpoolctl>=2.0.0 in /usr/local/lib/python3.7/dist-packages (from scikit-learn>=0.20.0->category_encoders) (3.1.0)\n",
            "Requirement already satisfied: joblib>=0.11 in /usr/local/lib/python3.7/dist-packages (from scikit-learn>=0.20.0->category_encoders) (1.1.0)\n"
          ]
        }
      ],
      "source": [
        "!pip install pyspark\n",
        "!pip install category_encoders"
      ]
    },
    {
      "cell_type": "code",
      "source": [
        "import pyspark\n",
        "from pyspark.sql import SparkSession\n",
        "from google.colab import drive\n",
        "from category_encoders import OneHotEncoder\n",
        "\n",
        "from sklearn.linear_model import LinearRegression\n",
        "from sklearn.tree import DecisionTreeRegressor\n",
        "\n",
        "import graphviz\n",
        "from ipywidgets import interact\n",
        "from sklearn.tree import DecisionTreeRegressor, export_graphviz\n",
        "spark=SparkSession.builder.appName(\"R6_study\").getOrCreate()"
      ],
      "metadata": {
        "id": "LduF5kV-ntUC"
      },
      "execution_count": null,
      "outputs": []
    },
    {
      "cell_type": "code",
      "source": [
        "drive.mount('/content/gdrive', force_remount=True)"
      ],
      "metadata": {
        "id": "ComKf5IDoL0e",
        "colab": {
          "base_uri": "https://localhost:8080/"
        },
        "outputId": "c5c80a12-0120-4e62-a6f3-d41830762dd8"
      },
      "execution_count": null,
      "outputs": [
        {
          "output_type": "stream",
          "name": "stdout",
          "text": [
            "Mounted at /content/gdrive\n"
          ]
        }
      ]
    },
    {
      "cell_type": "code",
      "source": [
        "path = '/content/gdrive/MyDrive/cpding/asdf/레식 데이터.csv'\n"
      ],
      "metadata": {
        "id": "49nnm55mIiie"
      },
      "execution_count": null,
      "outputs": []
    },
    {
      "cell_type": "code",
      "source": [
        "df_spark=spark.read.option(\"header\",\"true\").csv(path, inferSchema=True)"
      ],
      "metadata": {
        "id": "d4uIYiplorxj"
      },
      "execution_count": null,
      "outputs": []
    },
    {
      "cell_type": "code",
      "source": [
        "class spark :\n",
        "  \n",
        "  def __init__(self, df):   \n",
        "    self.df = df\n",
        "\n",
        "  def make_ratio_Column(self , name: str , numerator:float , denominator:float):\n",
        "\n",
        "    self.df = self.df.withColumn(name, (self.df[numerator]/ self.df[denominator]).cast(\"float\"))\n",
        "    return self.df\n",
        "\n",
        "#원래 했던거거\n",
        "#  def make_Column(self , name , up , down):\n",
        "#\n",
        "#    df_spark = self.df.withColumn(name, self.df[up]/ self.df[down] )\n",
        "#    define = spark(df_spark) # 의미가 없는거\n",
        "#    return df_spark\n",
        "\n",
        "  def del_Column(self,col_name):\n",
        "    self.df = self.df.drop(col_name)\n",
        "    return self.df \n",
        "\n",
        "  def div_team(self , team ):\n",
        "    self.df = self.df.filter(self.df[\"role\"] == team)\n",
        "    return self.df\n",
        "\n",
        "\n",
        "\n",
        "def show_tree(tree, colnames):\n",
        "    dot = export_graphviz(tree, feature_names=colnames, filled=True, rounded=True)   \n",
        "    return graphviz.Source(dot)\n"
      ],
      "metadata": {
        "id": "go7Vs0XgtX0D"
      },
      "execution_count": null,
      "outputs": []
    },
    {
      "cell_type": "code",
      "source": [
        "print(df_spark.dtypes)\n",
        "print(df_spark.printSchema())\n"
      ],
      "metadata": {
        "id": "p3uR14NTuium",
        "colab": {
          "base_uri": "https://localhost:8080/"
        },
        "outputId": "eb0564aa-a5b4-4ade-efc4-35daf1410a3f"
      },
      "execution_count": null,
      "outputs": [
        {
          "output_type": "stream",
          "name": "stdout",
          "text": [
            "[('skillrank', 'string'), ('role', 'string'), ('operator', 'string'), ('primaryweapon', 'string'), ('secondaryweapon', 'string'), ('secondarygadget', 'string'), ('nbwins', 'int'), ('nbkills', 'int'), ('nbdeaths', 'int'), ('nbpicks', 'int')]\n",
            "root\n",
            " |-- skillrank: string (nullable = true)\n",
            " |-- role: string (nullable = true)\n",
            " |-- operator: string (nullable = true)\n",
            " |-- primaryweapon: string (nullable = true)\n",
            " |-- secondaryweapon: string (nullable = true)\n",
            " |-- secondarygadget: string (nullable = true)\n",
            " |-- nbwins: integer (nullable = true)\n",
            " |-- nbkills: integer (nullable = true)\n",
            " |-- nbdeaths: integer (nullable = true)\n",
            " |-- nbpicks: integer (nullable = true)\n",
            "\n",
            "None\n"
          ]
        }
      ]
    },
    {
      "cell_type": "code",
      "source": [
        "\n",
        "del_rank = [\"Bronze\", \"Copper\", \"Unranked\"]\n",
        "\n",
        "for del_rank in del_rank:\n",
        "   df_spark = df_spark.filter(~(df_spark[\"skillrank\"]==del_rank))\n"
      ],
      "metadata": {
        "id": "Qpf1_abI1IhL"
      },
      "execution_count": null,
      "outputs": []
    },
    {
      "cell_type": "code",
      "source": [
        "define = spark(df_spark)\n",
        "encoder = OneHotEncoder(use_cat_names= True)"
      ],
      "metadata": {
        "id": "MtMGZiGUSvFK"
      },
      "execution_count": null,
      "outputs": []
    },
    {
      "cell_type": "code",
      "source": [
        "df_spark=define.make_ratio_Column('k/d_ratio','nbkills' ,\"nbdeaths\") \n",
        "df_spark=define.make_ratio_Column('win_ratio','nbkills','nbpicks').dropna()"
      ],
      "metadata": {
        "id": "nPNhtRnHYUoy"
      },
      "execution_count": null,
      "outputs": []
    },
    {
      "cell_type": "code",
      "source": [
        "\n",
        "use_list= [\"role\",\"primaryweapon\",\"secondaryweapon\",\"nbwins\", \"nbkills\",\"nbdeaths\",\"nbpicks\",'win_ratio','k/d_ratio']\n",
        "\n",
        "df_spark=df_spark.select(use_list)\n",
        "\n",
        "\n",
        "df_spark.show()"
      ],
      "metadata": {
        "colab": {
          "base_uri": "https://localhost:8080/"
        },
        "id": "BVKG5hXG_3I5",
        "outputId": "4f7eac97-41aa-41fd-836f-9087683b8701"
      },
      "execution_count": null,
      "outputs": [
        {
          "output_type": "stream",
          "name": "stdout",
          "text": [
            "+--------+-------------+---------------+------+-------+--------+-------+----------+----------+\n",
            "|    role|primaryweapon|secondaryweapon|nbwins|nbkills|nbdeaths|nbpicks| win_ratio| k/d_ratio|\n",
            "+--------+-------------+---------------+------+-------+--------+-------+----------+----------+\n",
            "|Attacker|           AR|         Pistol|     0|      0|       1|      1|       0.0|       0.0|\n",
            "|Attacker|           AR|             SG|     0|      0|       1|      1|       0.0|       0.0|\n",
            "|Attacker|       Shield|         Pistol|     2|      4|       1|      3| 1.3333334|       4.0|\n",
            "|Attacker|           AR|         Pistol|     0|      1|       1|      1|       1.0|       1.0|\n",
            "|Attacker|           AR|         Pistol|     3|      7|       1|      4|      1.75|       7.0|\n",
            "|Attacker|           AR|         Pistol|     1|      1|       1|      2|       0.5|       1.0|\n",
            "|Attacker|           AR|         Pistol|     0|      0|       1|      1|       0.0|       0.0|\n",
            "|Attacker|           AR|            SMG|     2|      1|       2|      3|0.33333334|       0.5|\n",
            "|Attacker|           AR|            SMG|     4|      6|       7|      8|      0.75|0.85714287|\n",
            "|Defender|          SMG|         Pistol|     2|      3|       1|      2|       1.5|       3.0|\n",
            "|Defender|          SMG|             SG|     4|      0|       2|      5|       0.0|       0.0|\n",
            "|Defender|          SMG|         Pistol|     0|      2|       1|      1|       2.0|       2.0|\n",
            "|Defender|          SMG|         Pistol|     0|      0|       1|      1|       0.0|       0.0|\n",
            "|Defender|          SMG|         Pistol|     4|      4|       3|      6| 0.6666667| 1.3333334|\n",
            "|Defender|          SMG|         Pistol|     3|      2|       4|      6|0.33333334|       0.5|\n",
            "|Defender|           AR|         Pistol|     6|      6|       3|      6|       1.0|       2.0|\n",
            "|Attacker|          LMG|         Pistol|    29|     27|      31|     50|      0.54|0.87096775|\n",
            "|Attacker|          LMG|         Pistol|    10|      9|      10|     15|       0.6|       0.9|\n",
            "|Attacker|           AR|         Pistol|   289|    396|     408|    584|0.67808217| 0.9705882|\n",
            "|Attacker|           AR|         Pistol|   153|    184|     218|    296| 0.6216216| 0.8440367|\n",
            "+--------+-------------+---------------+------+-------+--------+-------+----------+----------+\n",
            "only showing top 20 rows\n",
            "\n"
          ]
        }
      ]
    },
    {
      "cell_type": "code",
      "source": [
        "import pandas as pd\n"
      ],
      "metadata": {
        "id": "0U_waFqPRkKt"
      },
      "execution_count": null,
      "outputs": []
    },
    {
      "cell_type": "code",
      "source": [
        "df_spark_ATK=df_spark.filter(df_spark[\"role\"]==\"Attacker\")\n",
        "df_spark_DEF= df_spark.filter(df_spark[\"role\"] == \"Defender\")\n",
        "\n",
        "df_spark_ATK.show()"
      ],
      "metadata": {
        "colab": {
          "base_uri": "https://localhost:8080/"
        },
        "id": "gZaPoBRt9V0l",
        "outputId": "1220b7a6-6403-4400-c395-21d13da31f20"
      },
      "execution_count": null,
      "outputs": [
        {
          "output_type": "stream",
          "name": "stdout",
          "text": [
            "+--------+-------------+---------------+------+-------+--------+-------+----------+----------+\n",
            "|    role|primaryweapon|secondaryweapon|nbwins|nbkills|nbdeaths|nbpicks| win_ratio| k/d_ratio|\n",
            "+--------+-------------+---------------+------+-------+--------+-------+----------+----------+\n",
            "|Attacker|           AR|         Pistol|     0|      0|       1|      1|       0.0|       0.0|\n",
            "|Attacker|           AR|             SG|     0|      0|       1|      1|       0.0|       0.0|\n",
            "|Attacker|       Shield|         Pistol|     2|      4|       1|      3| 1.3333334|       4.0|\n",
            "|Attacker|           AR|         Pistol|     0|      1|       1|      1|       1.0|       1.0|\n",
            "|Attacker|           AR|         Pistol|     3|      7|       1|      4|      1.75|       7.0|\n",
            "|Attacker|           AR|         Pistol|     1|      1|       1|      2|       0.5|       1.0|\n",
            "|Attacker|           AR|         Pistol|     0|      0|       1|      1|       0.0|       0.0|\n",
            "|Attacker|           AR|            SMG|     2|      1|       2|      3|0.33333334|       0.5|\n",
            "|Attacker|           AR|            SMG|     4|      6|       7|      8|      0.75|0.85714287|\n",
            "|Attacker|          LMG|         Pistol|    29|     27|      31|     50|      0.54|0.87096775|\n",
            "|Attacker|          LMG|         Pistol|    10|      9|      10|     15|       0.6|       0.9|\n",
            "|Attacker|           AR|         Pistol|   289|    396|     408|    584|0.67808217| 0.9705882|\n",
            "|Attacker|           AR|         Pistol|   153|    184|     218|    296| 0.6216216| 0.8440367|\n",
            "|Attacker|           AR|             SG|   908|   1526|    1223|   1776| 0.8592342| 1.2477515|\n",
            "|Attacker|           AR|             SG|   400|    631|     495|    733|0.86084586| 1.2747475|\n",
            "|Attacker|           AR|         Pistol|   227|    410|     321|    467|0.87794435| 1.2772585|\n",
            "|Attacker|           AR|         Pistol|    74|    121|      93|    142|0.85211265| 1.3010752|\n",
            "|Attacker|           SG|             SG|     1|      0|       3|      3|       0.0|       0.0|\n",
            "|Attacker|           SG|             SG|     1|      0|       1|      1|       0.0|       0.0|\n",
            "|Attacker|           SG|         Pistol|     8|      5|       9|     13| 0.3846154| 0.5555556|\n",
            "+--------+-------------+---------------+------+-------+--------+-------+----------+----------+\n",
            "only showing top 20 rows\n",
            "\n"
          ]
        }
      ]
    },
    {
      "cell_type": "code",
      "source": [
        "Hot_ATK_operators=df_spark_ATK.toPandas()\n",
        "Hot_DEF_operators=df_spark_DEF.toPandas() \n",
        "\n",
        "#전처리 끝났으니 Pandas\n"
      ],
      "metadata": {
        "id": "cKKJJJNnXADz"
      },
      "execution_count": null,
      "outputs": []
    },
    {
      "cell_type": "code",
      "source": [
        "Hot_ATK_operators = encoder.fit_transform(Hot_ATK_operators) # 원핫 인코딩 \n",
        "Hot_DEF_operators = encoder.fit_transform(Hot_DEF_operators) # 원핫 인코딩"
      ],
      "metadata": {
        "id": "GWnEwxHRd-mg"
      },
      "execution_count": null,
      "outputs": []
    },
    {
      "cell_type": "code",
      "source": [
        "cols = Hot_ATK_operators[['primaryweapon_SMG','primaryweapon_SG','primaryweapon_AR']]\n",
        "target = Hot_ATK_operators[\"k/d_ratio\"]\n",
        "\n",
        "X_col = pd.DataFrame( data=cols)\n",
        "y_target = pd.DataFrame( data=target)\n",
        "linear = LinearRegression()\n",
        "linear.fit(X_col, y_target)\n",
        "print('R2: ', linear.score(X_col, y_target))\n",
        "print('Intercept: ', linear.intercept_[0])"
      ],
      "metadata": {
        "colab": {
          "base_uri": "https://localhost:8080/"
        },
        "id": "JwCcblJaalVF",
        "outputId": "f22fca0e-30b3-4a82-cddf-66e987a61d0b"
      },
      "execution_count": null,
      "outputs": [
        {
          "output_type": "stream",
          "name": "stdout",
          "text": [
            "R2:  0.03138030705350414\n",
            "Intercept:  0.9736696713126723\n"
          ]
        }
      ]
    },
    {
      "cell_type": "code",
      "source": [
        "\n",
        "\n",
        "\n",
        "tree = DecisionTreeRegressor(criterion=\"mae\")\n",
        "tree.fit(X_col, y_target)\n",
        "print('R2', tree.score(X_col, y_target))\n",
        "show_tree(tree, colnames=X_col.columns)\n",
        "\n"
      ],
      "metadata": {
        "colab": {
          "base_uri": "https://localhost:8080/",
          "height": 574
        },
        "id": "hJLLfACfamgQ",
        "outputId": "0fccd01f-b9ae-4f21-fea4-8c8f4b491d20"
      },
      "execution_count": null,
      "outputs": [
        {
          "output_type": "stream",
          "name": "stderr",
          "text": [
            "/usr/local/lib/python3.7/dist-packages/sklearn/tree/_classes.py:370: FutureWarning: Criterion 'mae' was deprecated in v1.0 and will be removed in version 1.2. Use `criterion='absolute_error'` which is equivalent.\n",
            "  FutureWarning,\n"
          ]
        },
        {
          "output_type": "stream",
          "name": "stdout",
          "text": [
            "R2 0.025281187154438833\n"
          ]
        },
        {
          "output_type": "execute_result",
          "data": {
            "text/plain": [
              "<graphviz.files.Source at 0x7f7a422e39d0>"
            ],
            "image/svg+xml": "<?xml version=\"1.0\" encoding=\"UTF-8\" standalone=\"no\"?>\n<!DOCTYPE svg PUBLIC \"-//W3C//DTD SVG 1.1//EN\"\n \"http://www.w3.org/Graphics/SVG/1.1/DTD/svg11.dtd\">\n<!-- Generated by graphviz version 2.40.1 (20161225.0304)\n -->\n<!-- Title: Tree Pages: 1 -->\n<svg width=\"475pt\" height=\"373pt\"\n viewBox=\"0.00 0.00 475.00 373.00\" xmlns=\"http://www.w3.org/2000/svg\" xmlns:xlink=\"http://www.w3.org/1999/xlink\">\n<g id=\"graph0\" class=\"graph\" transform=\"scale(1 1) rotate(0) translate(4 369)\">\n<title>Tree</title>\n<polygon fill=\"#ffffff\" stroke=\"transparent\" points=\"-4,4 -4,-369 471,-369 471,4 -4,4\"/>\n<!-- 0 -->\n<g id=\"node1\" class=\"node\">\n<title>0</title>\n<path fill=\"#e88e4e\" stroke=\"#000000\" d=\"M397,-365C397,-365 231,-365 231,-365 225,-365 219,-359 219,-353 219,-353 219,-309 219,-309 219,-303 225,-297 231,-297 231,-297 397,-297 397,-297 403,-297 409,-303 409,-309 409,-309 409,-353 409,-353 409,-359 403,-365 397,-365\"/>\n<text text-anchor=\"middle\" x=\"314\" y=\"-349.8\" font-family=\"Helvetica,sans-Serif\" font-size=\"14.00\" fill=\"#000000\">primaryweapon_SG &lt;= 0.5</text>\n<text text-anchor=\"middle\" x=\"314\" y=\"-334.8\" font-family=\"Helvetica,sans-Serif\" font-size=\"14.00\" fill=\"#000000\">mae = 0.428</text>\n<text text-anchor=\"middle\" x=\"314\" y=\"-319.8\" font-family=\"Helvetica,sans-Serif\" font-size=\"14.00\" fill=\"#000000\">samples = 132075</text>\n<text text-anchor=\"middle\" x=\"314\" y=\"-304.8\" font-family=\"Helvetica,sans-Serif\" font-size=\"14.00\" fill=\"#000000\">value = 1.0</text>\n</g>\n<!-- 1 -->\n<g id=\"node2\" class=\"node\">\n<title>1</title>\n<path fill=\"#e88e4e\" stroke=\"#000000\" d=\"M308.5,-261C308.5,-261 143.5,-261 143.5,-261 137.5,-261 131.5,-255 131.5,-249 131.5,-249 131.5,-205 131.5,-205 131.5,-199 137.5,-193 143.5,-193 143.5,-193 308.5,-193 308.5,-193 314.5,-193 320.5,-199 320.5,-205 320.5,-205 320.5,-249 320.5,-249 320.5,-255 314.5,-261 308.5,-261\"/>\n<text text-anchor=\"middle\" x=\"226\" y=\"-245.8\" font-family=\"Helvetica,sans-Serif\" font-size=\"14.00\" fill=\"#000000\">primaryweapon_AR &lt;= 0.5</text>\n<text text-anchor=\"middle\" x=\"226\" y=\"-230.8\" font-family=\"Helvetica,sans-Serif\" font-size=\"14.00\" fill=\"#000000\">mae = 0.394</text>\n<text text-anchor=\"middle\" x=\"226\" y=\"-215.8\" font-family=\"Helvetica,sans-Serif\" font-size=\"14.00\" fill=\"#000000\">samples = 106426</text>\n<text text-anchor=\"middle\" x=\"226\" y=\"-200.8\" font-family=\"Helvetica,sans-Serif\" font-size=\"14.00\" fill=\"#000000\">value = 1.0</text>\n</g>\n<!-- 0&#45;&gt;1 -->\n<g id=\"edge1\" class=\"edge\">\n<title>0&#45;&gt;1</title>\n<path fill=\"none\" stroke=\"#000000\" d=\"M285.1855,-296.9465C277.5883,-287.968 269.3026,-278.1758 261.4018,-268.8385\"/>\n<polygon fill=\"#000000\" stroke=\"#000000\" points=\"264.0105,-266.5031 254.8792,-261.13 258.6668,-271.0247 264.0105,-266.5031\"/>\n<text text-anchor=\"middle\" x=\"252.8031\" y=\"-282.3436\" font-family=\"Helvetica,sans-Serif\" font-size=\"14.00\" fill=\"#000000\">True</text>\n</g>\n<!-- 6 -->\n<g id=\"node7\" class=\"node\">\n<title>6</title>\n<path fill=\"#ffffff\" stroke=\"#000000\" d=\"M455,-253.5C455,-253.5 351,-253.5 351,-253.5 345,-253.5 339,-247.5 339,-241.5 339,-241.5 339,-212.5 339,-212.5 339,-206.5 345,-200.5 351,-200.5 351,-200.5 455,-200.5 455,-200.5 461,-200.5 467,-206.5 467,-212.5 467,-212.5 467,-241.5 467,-241.5 467,-247.5 461,-253.5 455,-253.5\"/>\n<text text-anchor=\"middle\" x=\"403\" y=\"-238.3\" font-family=\"Helvetica,sans-Serif\" font-size=\"14.00\" fill=\"#000000\">mae = 0.504</text>\n<text text-anchor=\"middle\" x=\"403\" y=\"-223.3\" font-family=\"Helvetica,sans-Serif\" font-size=\"14.00\" fill=\"#000000\">samples = 25649</text>\n<text text-anchor=\"middle\" x=\"403\" y=\"-208.3\" font-family=\"Helvetica,sans-Serif\" font-size=\"14.00\" fill=\"#000000\">value = 0.667</text>\n</g>\n<!-- 0&#45;&gt;6 -->\n<g id=\"edge6\" class=\"edge\">\n<title>0&#45;&gt;6</title>\n<path fill=\"none\" stroke=\"#000000\" d=\"M343.1419,-296.9465C352.9452,-285.491 363.8819,-272.711 373.6975,-261.2412\"/>\n<polygon fill=\"#000000\" stroke=\"#000000\" points=\"376.4433,-263.4156 380.286,-253.5422 371.1249,-258.8642 376.4433,-263.4156\"/>\n<text text-anchor=\"middle\" x=\"382.2232\" y=\"-274.767\" font-family=\"Helvetica,sans-Serif\" font-size=\"14.00\" fill=\"#000000\">False</text>\n</g>\n<!-- 2 -->\n<g id=\"node3\" class=\"node\">\n<title>2</title>\n<path fill=\"#ea9c63\" stroke=\"#000000\" d=\"M224,-157C224,-157 46,-157 46,-157 40,-157 34,-151 34,-145 34,-145 34,-101 34,-101 34,-95 40,-89 46,-89 46,-89 224,-89 224,-89 230,-89 236,-95 236,-101 236,-101 236,-145 236,-145 236,-151 230,-157 224,-157\"/>\n<text text-anchor=\"middle\" x=\"135\" y=\"-141.8\" font-family=\"Helvetica,sans-Serif\" font-size=\"14.00\" fill=\"#000000\">primaryweapon_SMG &lt;= 0.5</text>\n<text text-anchor=\"middle\" x=\"135\" y=\"-126.8\" font-family=\"Helvetica,sans-Serif\" font-size=\"14.00\" fill=\"#000000\">mae = 0.406</text>\n<text text-anchor=\"middle\" x=\"135\" y=\"-111.8\" font-family=\"Helvetica,sans-Serif\" font-size=\"14.00\" fill=\"#000000\">samples = 29979</text>\n<text text-anchor=\"middle\" x=\"135\" y=\"-96.8\" font-family=\"Helvetica,sans-Serif\" font-size=\"14.00\" fill=\"#000000\">value = 0.96</text>\n</g>\n<!-- 1&#45;&gt;2 -->\n<g id=\"edge2\" class=\"edge\">\n<title>1&#45;&gt;2</title>\n<path fill=\"none\" stroke=\"#000000\" d=\"M196.2032,-192.9465C188.347,-183.968 179.7788,-174.1758 171.6087,-164.8385\"/>\n<polygon fill=\"#000000\" stroke=\"#000000\" points=\"174.0829,-162.351 164.8637,-157.13 168.8148,-166.9606 174.0829,-162.351\"/>\n</g>\n<!-- 5 -->\n<g id=\"node6\" class=\"node\">\n<title>5</title>\n<path fill=\"#e58139\" stroke=\"#000000\" d=\"M370,-149.5C370,-149.5 266,-149.5 266,-149.5 260,-149.5 254,-143.5 254,-137.5 254,-137.5 254,-108.5 254,-108.5 254,-102.5 260,-96.5 266,-96.5 266,-96.5 370,-96.5 370,-96.5 376,-96.5 382,-102.5 382,-108.5 382,-108.5 382,-137.5 382,-137.5 382,-143.5 376,-149.5 370,-149.5\"/>\n<text text-anchor=\"middle\" x=\"318\" y=\"-134.3\" font-family=\"Helvetica,sans-Serif\" font-size=\"14.00\" fill=\"#000000\">mae = 0.388</text>\n<text text-anchor=\"middle\" x=\"318\" y=\"-119.3\" font-family=\"Helvetica,sans-Serif\" font-size=\"14.00\" fill=\"#000000\">samples = 76447</text>\n<text text-anchor=\"middle\" x=\"318\" y=\"-104.3\" font-family=\"Helvetica,sans-Serif\" font-size=\"14.00\" fill=\"#000000\">value = 1.039</text>\n</g>\n<!-- 1&#45;&gt;5 -->\n<g id=\"edge5\" class=\"edge\">\n<title>1&#45;&gt;5</title>\n<path fill=\"none\" stroke=\"#000000\" d=\"M256.1242,-192.9465C266.258,-181.491 277.5633,-168.711 287.7097,-157.2412\"/>\n<polygon fill=\"#000000\" stroke=\"#000000\" points=\"290.5161,-159.3512 294.5204,-149.5422 285.2731,-154.7131 290.5161,-159.3512\"/>\n</g>\n<!-- 3 -->\n<g id=\"node4\" class=\"node\">\n<title>3</title>\n<path fill=\"#eda775\" stroke=\"#000000\" d=\"M116,-53C116,-53 12,-53 12,-53 6,-53 0,-47 0,-41 0,-41 0,-12 0,-12 0,-6 6,0 12,0 12,0 116,0 116,0 122,0 128,-6 128,-12 128,-12 128,-41 128,-41 128,-47 122,-53 116,-53\"/>\n<text text-anchor=\"middle\" x=\"64\" y=\"-37.8\" font-family=\"Helvetica,sans-Serif\" font-size=\"14.00\" fill=\"#000000\">mae = 0.414</text>\n<text text-anchor=\"middle\" x=\"64\" y=\"-22.8\" font-family=\"Helvetica,sans-Serif\" font-size=\"14.00\" fill=\"#000000\">samples = 25666</text>\n<text text-anchor=\"middle\" x=\"64\" y=\"-7.8\" font-family=\"Helvetica,sans-Serif\" font-size=\"14.00\" fill=\"#000000\">value = 0.925</text>\n</g>\n<!-- 2&#45;&gt;3 -->\n<g id=\"edge3\" class=\"edge\">\n<title>2&#45;&gt;3</title>\n<path fill=\"none\" stroke=\"#000000\" d=\"M109.9681,-88.9777C103.4329,-80.0954 96.378,-70.5067 89.8036,-61.5711\"/>\n<polygon fill=\"#000000\" stroke=\"#000000\" points=\"92.4257,-59.229 83.6802,-53.2485 86.7874,-63.3775 92.4257,-59.229\"/>\n</g>\n<!-- 4 -->\n<g id=\"node5\" class=\"node\">\n<title>4</title>\n<path fill=\"#e5833c\" stroke=\"#000000\" d=\"M254,-53C254,-53 158,-53 158,-53 152,-53 146,-47 146,-41 146,-41 146,-12 146,-12 146,-6 152,0 158,0 158,0 254,0 254,0 260,0 266,-6 266,-12 266,-12 266,-41 266,-41 266,-47 260,-53 254,-53\"/>\n<text text-anchor=\"middle\" x=\"206\" y=\"-37.8\" font-family=\"Helvetica,sans-Serif\" font-size=\"14.00\" fill=\"#000000\">mae = 0.344</text>\n<text text-anchor=\"middle\" x=\"206\" y=\"-22.8\" font-family=\"Helvetica,sans-Serif\" font-size=\"14.00\" fill=\"#000000\">samples = 4313</text>\n<text text-anchor=\"middle\" x=\"206\" y=\"-7.8\" font-family=\"Helvetica,sans-Serif\" font-size=\"14.00\" fill=\"#000000\">value = 1.032</text>\n</g>\n<!-- 2&#45;&gt;4 -->\n<g id=\"edge4\" class=\"edge\">\n<title>2&#45;&gt;4</title>\n<path fill=\"none\" stroke=\"#000000\" d=\"M160.0319,-88.9777C166.5671,-80.0954 173.622,-70.5067 180.1964,-61.5711\"/>\n<polygon fill=\"#000000\" stroke=\"#000000\" points=\"183.2126,-63.3775 186.3198,-53.2485 177.5743,-59.229 183.2126,-63.3775\"/>\n</g>\n</g>\n</svg>\n"
          },
          "metadata": {},
          "execution_count": 28
        }
      ]
    },
    {
      "cell_type": "code",
      "source": [
        "\n",
        "\n",
        "cols = Hot_ATK_operators[['primaryweapon_SMG','primaryweapon_SG','primaryweapon_AR']]\n",
        "target = Hot_ATK_operators[\"k/d_ratio\"]\n",
        "\n",
        "X_col = pd.DataFrame( data=cols)\n",
        "y_target = pd.DataFrame( data=target)\n",
        "linear = LinearRegression()\n",
        "linear.fit(X_col, y_target)\n",
        "print('R2: ', linear.score(X_col, y_target))\n",
        "print('Intercept: ', linear.intercept_[0])\n",
        "\n",
        "tree = DecisionTreeRegressor(criterion=\"mae\")\n",
        "tree.fit(X_col, y_target)\n",
        "print('R2', tree.score(X_col, y_target))\n",
        "show_tree(tree, colnames=X_col.columns)\n",
        "\n"
      ],
      "metadata": {
        "id": "UXPQp87Vc8Qn",
        "colab": {
          "base_uri": "https://localhost:8080/",
          "height": 611
        },
        "outputId": "b793326a-0b23-4c8c-bd81-44d272eabb77"
      },
      "execution_count": null,
      "outputs": [
        {
          "output_type": "stream",
          "name": "stdout",
          "text": [
            "R2:  0.03138030705350414\n",
            "Intercept:  0.9736696713126723\n"
          ]
        },
        {
          "output_type": "stream",
          "name": "stderr",
          "text": [
            "/usr/local/lib/python3.7/dist-packages/sklearn/tree/_classes.py:370: FutureWarning: Criterion 'mae' was deprecated in v1.0 and will be removed in version 1.2. Use `criterion='absolute_error'` which is equivalent.\n",
            "  FutureWarning,\n"
          ]
        },
        {
          "output_type": "stream",
          "name": "stdout",
          "text": [
            "R2 0.025281187154438833\n"
          ]
        },
        {
          "output_type": "execute_result",
          "data": {
            "text/plain": [
              "<graphviz.files.Source at 0x7f7a40eff3d0>"
            ],
            "image/svg+xml": "<?xml version=\"1.0\" encoding=\"UTF-8\" standalone=\"no\"?>\n<!DOCTYPE svg PUBLIC \"-//W3C//DTD SVG 1.1//EN\"\n \"http://www.w3.org/Graphics/SVG/1.1/DTD/svg11.dtd\">\n<!-- Generated by graphviz version 2.40.1 (20161225.0304)\n -->\n<!-- Title: Tree Pages: 1 -->\n<svg width=\"475pt\" height=\"373pt\"\n viewBox=\"0.00 0.00 475.00 373.00\" xmlns=\"http://www.w3.org/2000/svg\" xmlns:xlink=\"http://www.w3.org/1999/xlink\">\n<g id=\"graph0\" class=\"graph\" transform=\"scale(1 1) rotate(0) translate(4 369)\">\n<title>Tree</title>\n<polygon fill=\"#ffffff\" stroke=\"transparent\" points=\"-4,4 -4,-369 471,-369 471,4 -4,4\"/>\n<!-- 0 -->\n<g id=\"node1\" class=\"node\">\n<title>0</title>\n<path fill=\"#e88e4e\" stroke=\"#000000\" d=\"M397,-365C397,-365 231,-365 231,-365 225,-365 219,-359 219,-353 219,-353 219,-309 219,-309 219,-303 225,-297 231,-297 231,-297 397,-297 397,-297 403,-297 409,-303 409,-309 409,-309 409,-353 409,-353 409,-359 403,-365 397,-365\"/>\n<text text-anchor=\"middle\" x=\"314\" y=\"-349.8\" font-family=\"Helvetica,sans-Serif\" font-size=\"14.00\" fill=\"#000000\">primaryweapon_SG &lt;= 0.5</text>\n<text text-anchor=\"middle\" x=\"314\" y=\"-334.8\" font-family=\"Helvetica,sans-Serif\" font-size=\"14.00\" fill=\"#000000\">mae = 0.428</text>\n<text text-anchor=\"middle\" x=\"314\" y=\"-319.8\" font-family=\"Helvetica,sans-Serif\" font-size=\"14.00\" fill=\"#000000\">samples = 132075</text>\n<text text-anchor=\"middle\" x=\"314\" y=\"-304.8\" font-family=\"Helvetica,sans-Serif\" font-size=\"14.00\" fill=\"#000000\">value = 1.0</text>\n</g>\n<!-- 1 -->\n<g id=\"node2\" class=\"node\">\n<title>1</title>\n<path fill=\"#e88e4e\" stroke=\"#000000\" d=\"M308.5,-261C308.5,-261 143.5,-261 143.5,-261 137.5,-261 131.5,-255 131.5,-249 131.5,-249 131.5,-205 131.5,-205 131.5,-199 137.5,-193 143.5,-193 143.5,-193 308.5,-193 308.5,-193 314.5,-193 320.5,-199 320.5,-205 320.5,-205 320.5,-249 320.5,-249 320.5,-255 314.5,-261 308.5,-261\"/>\n<text text-anchor=\"middle\" x=\"226\" y=\"-245.8\" font-family=\"Helvetica,sans-Serif\" font-size=\"14.00\" fill=\"#000000\">primaryweapon_AR &lt;= 0.5</text>\n<text text-anchor=\"middle\" x=\"226\" y=\"-230.8\" font-family=\"Helvetica,sans-Serif\" font-size=\"14.00\" fill=\"#000000\">mae = 0.394</text>\n<text text-anchor=\"middle\" x=\"226\" y=\"-215.8\" font-family=\"Helvetica,sans-Serif\" font-size=\"14.00\" fill=\"#000000\">samples = 106426</text>\n<text text-anchor=\"middle\" x=\"226\" y=\"-200.8\" font-family=\"Helvetica,sans-Serif\" font-size=\"14.00\" fill=\"#000000\">value = 1.0</text>\n</g>\n<!-- 0&#45;&gt;1 -->\n<g id=\"edge1\" class=\"edge\">\n<title>0&#45;&gt;1</title>\n<path fill=\"none\" stroke=\"#000000\" d=\"M285.1855,-296.9465C277.5883,-287.968 269.3026,-278.1758 261.4018,-268.8385\"/>\n<polygon fill=\"#000000\" stroke=\"#000000\" points=\"264.0105,-266.5031 254.8792,-261.13 258.6668,-271.0247 264.0105,-266.5031\"/>\n<text text-anchor=\"middle\" x=\"252.8031\" y=\"-282.3436\" font-family=\"Helvetica,sans-Serif\" font-size=\"14.00\" fill=\"#000000\">True</text>\n</g>\n<!-- 6 -->\n<g id=\"node7\" class=\"node\">\n<title>6</title>\n<path fill=\"#ffffff\" stroke=\"#000000\" d=\"M455,-253.5C455,-253.5 351,-253.5 351,-253.5 345,-253.5 339,-247.5 339,-241.5 339,-241.5 339,-212.5 339,-212.5 339,-206.5 345,-200.5 351,-200.5 351,-200.5 455,-200.5 455,-200.5 461,-200.5 467,-206.5 467,-212.5 467,-212.5 467,-241.5 467,-241.5 467,-247.5 461,-253.5 455,-253.5\"/>\n<text text-anchor=\"middle\" x=\"403\" y=\"-238.3\" font-family=\"Helvetica,sans-Serif\" font-size=\"14.00\" fill=\"#000000\">mae = 0.504</text>\n<text text-anchor=\"middle\" x=\"403\" y=\"-223.3\" font-family=\"Helvetica,sans-Serif\" font-size=\"14.00\" fill=\"#000000\">samples = 25649</text>\n<text text-anchor=\"middle\" x=\"403\" y=\"-208.3\" font-family=\"Helvetica,sans-Serif\" font-size=\"14.00\" fill=\"#000000\">value = 0.667</text>\n</g>\n<!-- 0&#45;&gt;6 -->\n<g id=\"edge6\" class=\"edge\">\n<title>0&#45;&gt;6</title>\n<path fill=\"none\" stroke=\"#000000\" d=\"M343.1419,-296.9465C352.9452,-285.491 363.8819,-272.711 373.6975,-261.2412\"/>\n<polygon fill=\"#000000\" stroke=\"#000000\" points=\"376.4433,-263.4156 380.286,-253.5422 371.1249,-258.8642 376.4433,-263.4156\"/>\n<text text-anchor=\"middle\" x=\"382.2232\" y=\"-274.767\" font-family=\"Helvetica,sans-Serif\" font-size=\"14.00\" fill=\"#000000\">False</text>\n</g>\n<!-- 2 -->\n<g id=\"node3\" class=\"node\">\n<title>2</title>\n<path fill=\"#ea9c63\" stroke=\"#000000\" d=\"M224,-157C224,-157 46,-157 46,-157 40,-157 34,-151 34,-145 34,-145 34,-101 34,-101 34,-95 40,-89 46,-89 46,-89 224,-89 224,-89 230,-89 236,-95 236,-101 236,-101 236,-145 236,-145 236,-151 230,-157 224,-157\"/>\n<text text-anchor=\"middle\" x=\"135\" y=\"-141.8\" font-family=\"Helvetica,sans-Serif\" font-size=\"14.00\" fill=\"#000000\">primaryweapon_SMG &lt;= 0.5</text>\n<text text-anchor=\"middle\" x=\"135\" y=\"-126.8\" font-family=\"Helvetica,sans-Serif\" font-size=\"14.00\" fill=\"#000000\">mae = 0.406</text>\n<text text-anchor=\"middle\" x=\"135\" y=\"-111.8\" font-family=\"Helvetica,sans-Serif\" font-size=\"14.00\" fill=\"#000000\">samples = 29979</text>\n<text text-anchor=\"middle\" x=\"135\" y=\"-96.8\" font-family=\"Helvetica,sans-Serif\" font-size=\"14.00\" fill=\"#000000\">value = 0.96</text>\n</g>\n<!-- 1&#45;&gt;2 -->\n<g id=\"edge2\" class=\"edge\">\n<title>1&#45;&gt;2</title>\n<path fill=\"none\" stroke=\"#000000\" d=\"M196.2032,-192.9465C188.347,-183.968 179.7788,-174.1758 171.6087,-164.8385\"/>\n<polygon fill=\"#000000\" stroke=\"#000000\" points=\"174.0829,-162.351 164.8637,-157.13 168.8148,-166.9606 174.0829,-162.351\"/>\n</g>\n<!-- 5 -->\n<g id=\"node6\" class=\"node\">\n<title>5</title>\n<path fill=\"#e58139\" stroke=\"#000000\" d=\"M370,-149.5C370,-149.5 266,-149.5 266,-149.5 260,-149.5 254,-143.5 254,-137.5 254,-137.5 254,-108.5 254,-108.5 254,-102.5 260,-96.5 266,-96.5 266,-96.5 370,-96.5 370,-96.5 376,-96.5 382,-102.5 382,-108.5 382,-108.5 382,-137.5 382,-137.5 382,-143.5 376,-149.5 370,-149.5\"/>\n<text text-anchor=\"middle\" x=\"318\" y=\"-134.3\" font-family=\"Helvetica,sans-Serif\" font-size=\"14.00\" fill=\"#000000\">mae = 0.388</text>\n<text text-anchor=\"middle\" x=\"318\" y=\"-119.3\" font-family=\"Helvetica,sans-Serif\" font-size=\"14.00\" fill=\"#000000\">samples = 76447</text>\n<text text-anchor=\"middle\" x=\"318\" y=\"-104.3\" font-family=\"Helvetica,sans-Serif\" font-size=\"14.00\" fill=\"#000000\">value = 1.039</text>\n</g>\n<!-- 1&#45;&gt;5 -->\n<g id=\"edge5\" class=\"edge\">\n<title>1&#45;&gt;5</title>\n<path fill=\"none\" stroke=\"#000000\" d=\"M256.1242,-192.9465C266.258,-181.491 277.5633,-168.711 287.7097,-157.2412\"/>\n<polygon fill=\"#000000\" stroke=\"#000000\" points=\"290.5161,-159.3512 294.5204,-149.5422 285.2731,-154.7131 290.5161,-159.3512\"/>\n</g>\n<!-- 3 -->\n<g id=\"node4\" class=\"node\">\n<title>3</title>\n<path fill=\"#eda775\" stroke=\"#000000\" d=\"M116,-53C116,-53 12,-53 12,-53 6,-53 0,-47 0,-41 0,-41 0,-12 0,-12 0,-6 6,0 12,0 12,0 116,0 116,0 122,0 128,-6 128,-12 128,-12 128,-41 128,-41 128,-47 122,-53 116,-53\"/>\n<text text-anchor=\"middle\" x=\"64\" y=\"-37.8\" font-family=\"Helvetica,sans-Serif\" font-size=\"14.00\" fill=\"#000000\">mae = 0.414</text>\n<text text-anchor=\"middle\" x=\"64\" y=\"-22.8\" font-family=\"Helvetica,sans-Serif\" font-size=\"14.00\" fill=\"#000000\">samples = 25666</text>\n<text text-anchor=\"middle\" x=\"64\" y=\"-7.8\" font-family=\"Helvetica,sans-Serif\" font-size=\"14.00\" fill=\"#000000\">value = 0.925</text>\n</g>\n<!-- 2&#45;&gt;3 -->\n<g id=\"edge3\" class=\"edge\">\n<title>2&#45;&gt;3</title>\n<path fill=\"none\" stroke=\"#000000\" d=\"M109.9681,-88.9777C103.4329,-80.0954 96.378,-70.5067 89.8036,-61.5711\"/>\n<polygon fill=\"#000000\" stroke=\"#000000\" points=\"92.4257,-59.229 83.6802,-53.2485 86.7874,-63.3775 92.4257,-59.229\"/>\n</g>\n<!-- 4 -->\n<g id=\"node5\" class=\"node\">\n<title>4</title>\n<path fill=\"#e5833c\" stroke=\"#000000\" d=\"M254,-53C254,-53 158,-53 158,-53 152,-53 146,-47 146,-41 146,-41 146,-12 146,-12 146,-6 152,0 158,0 158,0 254,0 254,0 260,0 266,-6 266,-12 266,-12 266,-41 266,-41 266,-47 260,-53 254,-53\"/>\n<text text-anchor=\"middle\" x=\"206\" y=\"-37.8\" font-family=\"Helvetica,sans-Serif\" font-size=\"14.00\" fill=\"#000000\">mae = 0.344</text>\n<text text-anchor=\"middle\" x=\"206\" y=\"-22.8\" font-family=\"Helvetica,sans-Serif\" font-size=\"14.00\" fill=\"#000000\">samples = 4313</text>\n<text text-anchor=\"middle\" x=\"206\" y=\"-7.8\" font-family=\"Helvetica,sans-Serif\" font-size=\"14.00\" fill=\"#000000\">value = 1.032</text>\n</g>\n<!-- 2&#45;&gt;4 -->\n<g id=\"edge4\" class=\"edge\">\n<title>2&#45;&gt;4</title>\n<path fill=\"none\" stroke=\"#000000\" d=\"M160.0319,-88.9777C166.5671,-80.0954 173.622,-70.5067 180.1964,-61.5711\"/>\n<polygon fill=\"#000000\" stroke=\"#000000\" points=\"183.2126,-63.3775 186.3198,-53.2485 177.5743,-59.229 183.2126,-63.3775\"/>\n</g>\n</g>\n</svg>\n"
          },
          "metadata": {},
          "execution_count": 30
        }
      ]
    }
  ]
}